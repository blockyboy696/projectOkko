{
 "cells": [
  {
   "attachments": {},
   "cell_type": "markdown",
   "metadata": {},
   "source": [
    "# 0. Configuration"
   ]
  },
  {
   "cell_type": "code",
   "execution_count": 1,
   "metadata": {},
   "outputs": [],
   "source": [
    "# links to shared data MovieLens\n",
    "# source on kaggle: https://www.kaggle.com/code/quangnhatbui/movie-recommender/data\n",
    "INTERACTIONS_PATH = 'https://drive.google.com/file/d/1i6kmeJIUNJjqAa0vAvztFSDN3BFz9x1i/view?usp=sharing'\n",
    "ITEMS_METADATA_PATH = 'https://drive.google.com/file/d/12a80lS3vXQOl6i6ENgz-WqWw3Wms0nqB/view?usp=share_link'\n",
    "USERS_DATA_PATH = 'https://drive.google.com/file/d/1MwPaye0cRi53czLqCnH0bOuvIhOeNlAx/view?usp=share_link'"
   ]
  },
  {
   "attachments": {},
   "cell_type": "markdown",
   "metadata": {},
   "source": [
    "# 1. Modules and functions"
   ]
  },
  {
   "cell_type": "code",
   "execution_count": 48,
   "metadata": {},
   "outputs": [],
   "source": [
    "# just to make it available to download w/o SSL verification\n",
    "import ssl\n",
    "ssl._create_default_https_context = ssl._create_unverified_context\n",
    "\n",
    "import shap\n",
    "import numpy as np\n",
    "import pandas as pd\n",
    "import datetime as dt\n",
    "\n",
    "from sklearn.utils import shuffle\n",
    "from sklearn.model_selection import train_test_split\n",
    "\n",
    "from lightfm.data import Dataset\n",
    "from lightfm import LightFM\n",
    "\n",
    "from catboost import CatBoostClassifier\n",
    "\n",
    "from tqdm import tqdm\n",
    "import warnings\n",
    "warnings.filterwarnings('ignore')\n",
    "\n",
    "pd.set_option('display.float_format', lambda x: '%.3f' % x)"
   ]
  },
  {
   "attachments": {},
   "cell_type": "markdown",
   "metadata": {},
   "source": [
    "## 1. 1. Helper functions to avoid copy paste"
   ]
  },
  {
   "cell_type": "code",
   "execution_count": 24,
   "metadata": {},
   "outputs": [],
   "source": [
    "def read_csv_from_gdrive(url):\n",
    "    \"\"\"\n",
    "    gets csv data from a given url (taken from file -> share -> copy link)\n",
    "    :url: example https://drive.google.com/file/d/1BlZfCLLs5A13tbNSJZ1GPkHLWQOnPlE4/view?usp=share_link\n",
    "    \"\"\"\n",
    "    file_id = url.split('/')[-2]\n",
    "    file_path = 'https://drive.google.com/uc?export=download&id=' + file_id\n",
    "    data = pd.read_csv(file_path)\n",
    "\n",
    "    return data"
   ]
  },
  {
   "attachments": {},
   "cell_type": "markdown",
   "metadata": {},
   "source": [
    "# 2. Main"
   ]
  },
  {
   "attachments": {},
   "cell_type": "markdown",
   "metadata": {},
   "source": [
    "## 2.1. Load Data"
   ]
  },
  {
   "attachments": {},
   "cell_type": "markdown",
   "metadata": {},
   "source": [
    "`interactions` dataset shows list of movies that users watched, along with given `total_dur` in seconds and `watched_pct` proportion:"
   ]
  },
  {
   "cell_type": "code",
   "execution_count": 25,
   "metadata": {},
   "outputs": [
    {
     "data": {
      "text/html": [
       "<div>\n",
       "<style scoped>\n",
       "    .dataframe tbody tr th:only-of-type {\n",
       "        vertical-align: middle;\n",
       "    }\n",
       "\n",
       "    .dataframe tbody tr th {\n",
       "        vertical-align: top;\n",
       "    }\n",
       "\n",
       "    .dataframe thead th {\n",
       "        text-align: right;\n",
       "    }\n",
       "</style>\n",
       "<table border=\"1\" class=\"dataframe\">\n",
       "  <thead>\n",
       "    <tr style=\"text-align: right;\">\n",
       "      <th></th>\n",
       "      <th>user_id</th>\n",
       "      <th>item_id</th>\n",
       "      <th>last_watch_dt</th>\n",
       "      <th>total_dur</th>\n",
       "      <th>watched_pct</th>\n",
       "    </tr>\n",
       "  </thead>\n",
       "  <tbody>\n",
       "    <tr>\n",
       "      <th>0</th>\n",
       "      <td>176549</td>\n",
       "      <td>9506</td>\n",
       "      <td>2021-05-11</td>\n",
       "      <td>4250</td>\n",
       "      <td>72.000</td>\n",
       "    </tr>\n",
       "    <tr>\n",
       "      <th>1</th>\n",
       "      <td>699317</td>\n",
       "      <td>1659</td>\n",
       "      <td>2021-05-29</td>\n",
       "      <td>8317</td>\n",
       "      <td>100.000</td>\n",
       "    </tr>\n",
       "    <tr>\n",
       "      <th>2</th>\n",
       "      <td>656683</td>\n",
       "      <td>7107</td>\n",
       "      <td>2021-05-09</td>\n",
       "      <td>10</td>\n",
       "      <td>0.000</td>\n",
       "    </tr>\n",
       "    <tr>\n",
       "      <th>3</th>\n",
       "      <td>864613</td>\n",
       "      <td>7638</td>\n",
       "      <td>2021-07-05</td>\n",
       "      <td>14483</td>\n",
       "      <td>100.000</td>\n",
       "    </tr>\n",
       "    <tr>\n",
       "      <th>4</th>\n",
       "      <td>964868</td>\n",
       "      <td>9506</td>\n",
       "      <td>2021-04-30</td>\n",
       "      <td>6725</td>\n",
       "      <td>100.000</td>\n",
       "    </tr>\n",
       "  </tbody>\n",
       "</table>\n",
       "</div>"
      ],
      "text/plain": [
       "   user_id  item_id last_watch_dt  total_dur  watched_pct\n",
       "0   176549     9506    2021-05-11       4250       72.000\n",
       "1   699317     1659    2021-05-29       8317      100.000\n",
       "2   656683     7107    2021-05-09         10        0.000\n",
       "3   864613     7638    2021-07-05      14483      100.000\n",
       "4   964868     9506    2021-04-30       6725      100.000"
      ]
     },
     "execution_count": 25,
     "metadata": {},
     "output_type": "execute_result"
    }
   ],
   "source": [
    "# interactions data\n",
    "interactions = pd.read_csv('interactions_df.csv')\n",
    "interactions.head()"
   ]
  },
  {
   "attachments": {},
   "cell_type": "markdown",
   "metadata": {},
   "source": [
    "`movies_metadata` dataset shows the list of movies existing on OKKO platform:"
   ]
  },
  {
   "cell_type": "code",
   "execution_count": 26,
   "metadata": {},
   "outputs": [
    {
     "data": {
      "text/html": [
       "<div>\n",
       "<style scoped>\n",
       "    .dataframe tbody tr th:only-of-type {\n",
       "        vertical-align: middle;\n",
       "    }\n",
       "\n",
       "    .dataframe tbody tr th {\n",
       "        vertical-align: top;\n",
       "    }\n",
       "\n",
       "    .dataframe thead th {\n",
       "        text-align: right;\n",
       "    }\n",
       "</style>\n",
       "<table border=\"1\" class=\"dataframe\">\n",
       "  <thead>\n",
       "    <tr style=\"text-align: right;\">\n",
       "      <th></th>\n",
       "      <th>item_id</th>\n",
       "      <th>content_type</th>\n",
       "      <th>title</th>\n",
       "      <th>title_orig</th>\n",
       "      <th>release_year</th>\n",
       "      <th>genres</th>\n",
       "      <th>countries</th>\n",
       "      <th>for_kids</th>\n",
       "      <th>age_rating</th>\n",
       "      <th>studios</th>\n",
       "      <th>directors</th>\n",
       "      <th>actors</th>\n",
       "      <th>description</th>\n",
       "      <th>keywords</th>\n",
       "    </tr>\n",
       "  </thead>\n",
       "  <tbody>\n",
       "    <tr>\n",
       "      <th>0</th>\n",
       "      <td>10711</td>\n",
       "      <td>film</td>\n",
       "      <td>Поговори с ней</td>\n",
       "      <td>Hable con ella</td>\n",
       "      <td>2002.000</td>\n",
       "      <td>драмы, зарубежные, детективы, мелодрамы</td>\n",
       "      <td>Испания</td>\n",
       "      <td>NaN</td>\n",
       "      <td>16.000</td>\n",
       "      <td>NaN</td>\n",
       "      <td>Педро Альмодовар</td>\n",
       "      <td>Адольфо Фернандес, Ана Фернандес, Дарио Гранди...</td>\n",
       "      <td>Мелодрама легендарного Педро Альмодовара «Пого...</td>\n",
       "      <td>Поговори, ней, 2002, Испания, друзья, любовь, ...</td>\n",
       "    </tr>\n",
       "    <tr>\n",
       "      <th>1</th>\n",
       "      <td>2508</td>\n",
       "      <td>film</td>\n",
       "      <td>Голые перцы</td>\n",
       "      <td>Search Party</td>\n",
       "      <td>2014.000</td>\n",
       "      <td>зарубежные, приключения, комедии</td>\n",
       "      <td>США</td>\n",
       "      <td>NaN</td>\n",
       "      <td>16.000</td>\n",
       "      <td>NaN</td>\n",
       "      <td>Скот Армстронг</td>\n",
       "      <td>Адам Палли, Брайан Хаски, Дж.Б. Смув, Джейсон ...</td>\n",
       "      <td>Уморительная современная комедия на популярную...</td>\n",
       "      <td>Голые, перцы, 2014, США, друзья, свадьбы, прео...</td>\n",
       "    </tr>\n",
       "    <tr>\n",
       "      <th>2</th>\n",
       "      <td>10716</td>\n",
       "      <td>film</td>\n",
       "      <td>Тактическая сила</td>\n",
       "      <td>Tactical Force</td>\n",
       "      <td>2011.000</td>\n",
       "      <td>криминал, зарубежные, триллеры, боевики, комедии</td>\n",
       "      <td>Канада</td>\n",
       "      <td>NaN</td>\n",
       "      <td>16.000</td>\n",
       "      <td>NaN</td>\n",
       "      <td>Адам П. Калтраро</td>\n",
       "      <td>Адриан Холмс, Даррен Шалави, Джерри Вассерман,...</td>\n",
       "      <td>Профессиональный рестлер Стив Остин («Все или ...</td>\n",
       "      <td>Тактическая, сила, 2011, Канада, бандиты, ганг...</td>\n",
       "    </tr>\n",
       "  </tbody>\n",
       "</table>\n",
       "</div>"
      ],
      "text/plain": [
       "   item_id content_type             title      title_orig  release_year  \\\n",
       "0    10711         film    Поговори с ней  Hable con ella      2002.000   \n",
       "1     2508         film       Голые перцы    Search Party      2014.000   \n",
       "2    10716         film  Тактическая сила  Tactical Force      2011.000   \n",
       "\n",
       "                                             genres countries  for_kids  \\\n",
       "0           драмы, зарубежные, детективы, мелодрамы   Испания       NaN   \n",
       "1                  зарубежные, приключения, комедии       США       NaN   \n",
       "2  криминал, зарубежные, триллеры, боевики, комедии    Канада       NaN   \n",
       "\n",
       "   age_rating studios         directors  \\\n",
       "0      16.000     NaN  Педро Альмодовар   \n",
       "1      16.000     NaN    Скот Армстронг   \n",
       "2      16.000     NaN  Адам П. Калтраро   \n",
       "\n",
       "                                              actors  \\\n",
       "0  Адольфо Фернандес, Ана Фернандес, Дарио Гранди...   \n",
       "1  Адам Палли, Брайан Хаски, Дж.Б. Смув, Джейсон ...   \n",
       "2  Адриан Холмс, Даррен Шалави, Джерри Вассерман,...   \n",
       "\n",
       "                                         description  \\\n",
       "0  Мелодрама легендарного Педро Альмодовара «Пого...   \n",
       "1  Уморительная современная комедия на популярную...   \n",
       "2  Профессиональный рестлер Стив Остин («Все или ...   \n",
       "\n",
       "                                            keywords  \n",
       "0  Поговори, ней, 2002, Испания, друзья, любовь, ...  \n",
       "1  Голые, перцы, 2014, США, друзья, свадьбы, прео...  \n",
       "2  Тактическая, сила, 2011, Канада, бандиты, ганг...  "
      ]
     },
     "execution_count": 26,
     "metadata": {},
     "output_type": "execute_result"
    }
   ],
   "source": [
    "# information about films etc\n",
    "movies_metadata = read_csv_from_gdrive(ITEMS_METADATA_PATH)\n",
    "movies_metadata.head(3)"
   ]
  },
  {
   "cell_type": "code",
   "execution_count": 6,
   "metadata": {},
   "outputs": [
    {
     "data": {
      "text/html": [
       "<div>\n",
       "<style scoped>\n",
       "    .dataframe tbody tr th:only-of-type {\n",
       "        vertical-align: middle;\n",
       "    }\n",
       "\n",
       "    .dataframe tbody tr th {\n",
       "        vertical-align: top;\n",
       "    }\n",
       "\n",
       "    .dataframe thead th {\n",
       "        text-align: right;\n",
       "    }\n",
       "</style>\n",
       "<table border=\"1\" class=\"dataframe\">\n",
       "  <thead>\n",
       "    <tr style=\"text-align: right;\">\n",
       "      <th></th>\n",
       "      <th>user_id</th>\n",
       "      <th>age</th>\n",
       "      <th>income</th>\n",
       "      <th>sex</th>\n",
       "      <th>kids_flg</th>\n",
       "    </tr>\n",
       "  </thead>\n",
       "  <tbody>\n",
       "    <tr>\n",
       "      <th>0</th>\n",
       "      <td>973171</td>\n",
       "      <td>age_25_34</td>\n",
       "      <td>income_60_90</td>\n",
       "      <td>М</td>\n",
       "      <td>1</td>\n",
       "    </tr>\n",
       "    <tr>\n",
       "      <th>1</th>\n",
       "      <td>962099</td>\n",
       "      <td>age_18_24</td>\n",
       "      <td>income_20_40</td>\n",
       "      <td>М</td>\n",
       "      <td>0</td>\n",
       "    </tr>\n",
       "    <tr>\n",
       "      <th>2</th>\n",
       "      <td>1047345</td>\n",
       "      <td>age_45_54</td>\n",
       "      <td>income_40_60</td>\n",
       "      <td>Ж</td>\n",
       "      <td>0</td>\n",
       "    </tr>\n",
       "    <tr>\n",
       "      <th>3</th>\n",
       "      <td>721985</td>\n",
       "      <td>age_45_54</td>\n",
       "      <td>income_20_40</td>\n",
       "      <td>Ж</td>\n",
       "      <td>0</td>\n",
       "    </tr>\n",
       "    <tr>\n",
       "      <th>4</th>\n",
       "      <td>704055</td>\n",
       "      <td>age_35_44</td>\n",
       "      <td>income_60_90</td>\n",
       "      <td>Ж</td>\n",
       "      <td>0</td>\n",
       "    </tr>\n",
       "  </tbody>\n",
       "</table>\n",
       "</div>"
      ],
      "text/plain": [
       "   user_id        age        income sex  kids_flg\n",
       "0   973171  age_25_34  income_60_90   М         1\n",
       "1   962099  age_18_24  income_20_40   М         0\n",
       "2  1047345  age_45_54  income_40_60   Ж         0\n",
       "3   721985  age_45_54  income_20_40   Ж         0\n",
       "4   704055  age_35_44  income_60_90   Ж         0"
      ]
     },
     "execution_count": 6,
     "metadata": {},
     "output_type": "execute_result"
    }
   ],
   "source": [
    "users_data = read_csv_from_gdrive(USERS_DATA_PATH)\n",
    "users_data.head()"
   ]
  },
  {
   "attachments": {},
   "cell_type": "markdown",
   "metadata": {},
   "source": [
    "## 2.2. Train/test split"
   ]
  },
  {
   "attachments": {},
   "cell_type": "markdown",
   "metadata": {},
   "source": [
    "## 2.3 Data preparation using LightFM Dataset (first-level model)"
   ]
  },
  {
   "attachments": {},
   "cell_type": "markdown",
   "metadata": {},
   "source": [
    "To use implicit kNN method `fit` we need a sparse matrix in COOrdinate format. To achieve that we will use `scipy.sparse.coo_matrix` from scipy;\n"
   ]
  },
  {
   "cell_type": "code",
   "execution_count": 27,
   "metadata": {},
   "outputs": [],
   "source": [
    "# remove redundant data points\n",
    "interactions_filtered = interactions.loc[interactions['total_dur'] > 300].reset_index(drop = True)"
   ]
  },
  {
   "cell_type": "code",
   "execution_count": 28,
   "metadata": {},
   "outputs": [
    {
     "name": "stdout",
     "output_type": "stream",
     "text": [
      "(5476251, 5) (4195689, 5)\n"
     ]
    }
   ],
   "source": [
    "print(interactions.shape, interactions_filtered.shape)"
   ]
  },
  {
   "cell_type": "code",
   "execution_count": 29,
   "metadata": {},
   "outputs": [],
   "source": [
    "interactions_filtered['last_watch_dt'] = pd.to_datetime(interactions_filtered['last_watch_dt'])"
   ]
  },
  {
   "cell_type": "code",
   "execution_count": 30,
   "metadata": {},
   "outputs": [
    {
     "name": "stdout",
     "output_type": "stream",
     "text": [
      "min date in filtered interactions: 2021-08-22 00:00:00\n",
      "max date in filtered interactions:: 2021-03-13 00:00:00\n"
     ]
    }
   ],
   "source": [
    "# set dates params for filter\n",
    "MAX_DATE = interactions_filtered['last_watch_dt'].max()\n",
    "MIN_DATE = interactions_filtered['last_watch_dt'].min()\n",
    "TEST_INTERVAL_DAYS = 14\n",
    "\n",
    "print(f\"min date in filtered interactions: {MAX_DATE}\")\n",
    "print(f\"max date in filtered interactions:: {MIN_DATE}\")"
   ]
  },
  {
   "cell_type": "code",
   "execution_count": 122,
   "metadata": {},
   "outputs": [
    {
     "data": {
      "text/html": [
       "<div>\n",
       "<style scoped>\n",
       "    .dataframe tbody tr th:only-of-type {\n",
       "        vertical-align: middle;\n",
       "    }\n",
       "\n",
       "    .dataframe tbody tr th {\n",
       "        vertical-align: top;\n",
       "    }\n",
       "\n",
       "    .dataframe thead th {\n",
       "        text-align: right;\n",
       "    }\n",
       "</style>\n",
       "<table border=\"1\" class=\"dataframe\">\n",
       "  <thead>\n",
       "    <tr style=\"text-align: right;\">\n",
       "      <th></th>\n",
       "      <th>user_id</th>\n",
       "      <th>item_id</th>\n",
       "      <th>last_watch_dt</th>\n",
       "      <th>total_dur</th>\n",
       "      <th>watched_pct</th>\n",
       "    </tr>\n",
       "  </thead>\n",
       "  <tbody>\n",
       "    <tr>\n",
       "      <th>0</th>\n",
       "      <td>176549</td>\n",
       "      <td>9506</td>\n",
       "      <td>2021-05-11</td>\n",
       "      <td>4250</td>\n",
       "      <td>72.000</td>\n",
       "    </tr>\n",
       "    <tr>\n",
       "      <th>1</th>\n",
       "      <td>699317</td>\n",
       "      <td>1659</td>\n",
       "      <td>2021-05-29</td>\n",
       "      <td>8317</td>\n",
       "      <td>100.000</td>\n",
       "    </tr>\n",
       "    <tr>\n",
       "      <th>2</th>\n",
       "      <td>864613</td>\n",
       "      <td>7638</td>\n",
       "      <td>2021-07-05</td>\n",
       "      <td>14483</td>\n",
       "      <td>100.000</td>\n",
       "    </tr>\n",
       "    <tr>\n",
       "      <th>3</th>\n",
       "      <td>964868</td>\n",
       "      <td>9506</td>\n",
       "      <td>2021-04-30</td>\n",
       "      <td>6725</td>\n",
       "      <td>100.000</td>\n",
       "    </tr>\n",
       "    <tr>\n",
       "      <th>4</th>\n",
       "      <td>1032142</td>\n",
       "      <td>6686</td>\n",
       "      <td>2021-05-13</td>\n",
       "      <td>11286</td>\n",
       "      <td>100.000</td>\n",
       "    </tr>\n",
       "    <tr>\n",
       "      <th>...</th>\n",
       "      <td>...</td>\n",
       "      <td>...</td>\n",
       "      <td>...</td>\n",
       "      <td>...</td>\n",
       "      <td>...</td>\n",
       "    </tr>\n",
       "    <tr>\n",
       "      <th>4195684</th>\n",
       "      <td>786732</td>\n",
       "      <td>4880</td>\n",
       "      <td>2021-05-12</td>\n",
       "      <td>753</td>\n",
       "      <td>0.000</td>\n",
       "    </tr>\n",
       "    <tr>\n",
       "      <th>4195685</th>\n",
       "      <td>546862</td>\n",
       "      <td>9673</td>\n",
       "      <td>2021-04-13</td>\n",
       "      <td>2308</td>\n",
       "      <td>49.000</td>\n",
       "    </tr>\n",
       "    <tr>\n",
       "      <th>4195686</th>\n",
       "      <td>697262</td>\n",
       "      <td>15297</td>\n",
       "      <td>2021-08-20</td>\n",
       "      <td>18307</td>\n",
       "      <td>63.000</td>\n",
       "    </tr>\n",
       "    <tr>\n",
       "      <th>4195687</th>\n",
       "      <td>384202</td>\n",
       "      <td>16197</td>\n",
       "      <td>2021-04-19</td>\n",
       "      <td>6203</td>\n",
       "      <td>100.000</td>\n",
       "    </tr>\n",
       "    <tr>\n",
       "      <th>4195688</th>\n",
       "      <td>319709</td>\n",
       "      <td>4436</td>\n",
       "      <td>2021-08-15</td>\n",
       "      <td>3921</td>\n",
       "      <td>45.000</td>\n",
       "    </tr>\n",
       "  </tbody>\n",
       "</table>\n",
       "<p>4195689 rows × 5 columns</p>\n",
       "</div>"
      ],
      "text/plain": [
       "         user_id  item_id last_watch_dt  total_dur  watched_pct\n",
       "0         176549     9506    2021-05-11       4250       72.000\n",
       "1         699317     1659    2021-05-29       8317      100.000\n",
       "2         864613     7638    2021-07-05      14483      100.000\n",
       "3         964868     9506    2021-04-30       6725      100.000\n",
       "4        1032142     6686    2021-05-13      11286      100.000\n",
       "...          ...      ...           ...        ...          ...\n",
       "4195684   786732     4880    2021-05-12        753        0.000\n",
       "4195685   546862     9673    2021-04-13       2308       49.000\n",
       "4195686   697262    15297    2021-08-20      18307       63.000\n",
       "4195687   384202    16197    2021-04-19       6203      100.000\n",
       "4195688   319709     4436    2021-08-15       3921       45.000\n",
       "\n",
       "[4195689 rows x 5 columns]"
      ]
     },
     "execution_count": 122,
     "metadata": {},
     "output_type": "execute_result"
    }
   ],
   "source": [
    "interactions_filtered"
   ]
  },
  {
   "cell_type": "code",
   "execution_count": 31,
   "metadata": {},
   "outputs": [],
   "source": [
    "TEST_MAX_DATE = MAX_DATE - dt.timedelta(days = TEST_INTERVAL_DAYS)"
   ]
  },
  {
   "cell_type": "code",
   "execution_count": 32,
   "metadata": {},
   "outputs": [
    {
     "name": "stdout",
     "output_type": "stream",
     "text": [
      "(3530674, 5) (665015, 5)\n"
     ]
    }
   ],
   "source": [
    "# define global train and test\n",
    "global_train = interactions_filtered.loc[interactions_filtered['last_watch_dt'] < TEST_MAX_DATE]\n",
    "global_test = interactions_filtered.loc[interactions_filtered['last_watch_dt'] >= TEST_MAX_DATE]\n",
    "\n",
    "print(global_train.shape, global_test.shape)"
   ]
  },
  {
   "cell_type": "code",
   "execution_count": 33,
   "metadata": {},
   "outputs": [
    {
     "name": "stdout",
     "output_type": "stream",
     "text": [
      "2021-07-11 00:00:00\n"
     ]
    }
   ],
   "source": [
    "# now, we define \"local\" train and test to use some part of the global train for ranker\n",
    "local_train_thresh = global_train['last_watch_dt'].quantile(q = .7, interpolation = 'nearest')\n",
    "print(local_train_thresh)"
   ]
  },
  {
   "cell_type": "code",
   "execution_count": 34,
   "metadata": {},
   "outputs": [],
   "source": [
    "global_train = global_train.dropna().reset_index(drop = True)"
   ]
  },
  {
   "cell_type": "code",
   "execution_count": 35,
   "metadata": {},
   "outputs": [
    {
     "name": "stdout",
     "output_type": "stream",
     "text": [
      "(2451040, 5) (1079183, 5)\n"
     ]
    }
   ],
   "source": [
    "local_train = global_train.loc[global_train['last_watch_dt'] < local_train_thresh]\n",
    "local_test = global_train.loc[global_train['last_watch_dt'] >= local_train_thresh]\n",
    "\n",
    "print(local_train.shape, local_test.shape)"
   ]
  },
  {
   "cell_type": "code",
   "execution_count": 36,
   "metadata": {},
   "outputs": [
    {
     "name": "stdout",
     "output_type": "stream",
     "text": [
      "(579382, 5)\n"
     ]
    }
   ],
   "source": [
    "# finally, we will focus on warm start -- remove cold start users\n",
    "local_test = local_test.loc[local_test['user_id'].isin(local_train['user_id'].unique())]\n",
    "print(local_test.shape)"
   ]
  },
  {
   "cell_type": "code",
   "execution_count": 37,
   "metadata": {},
   "outputs": [],
   "source": [
    "# init class\n",
    "dataset = Dataset()\n",
    "\n",
    "# fit tuple of user and movie interactions\n",
    "dataset.fit(local_train['user_id'].unique(), local_train['item_id'].unique())"
   ]
  },
  {
   "cell_type": "code",
   "execution_count": 38,
   "metadata": {},
   "outputs": [
    {
     "data": {
      "text/plain": [
       "<lightfm.data.Dataset at 0x7f78b10507f0>"
      ]
     },
     "execution_count": 38,
     "metadata": {},
     "output_type": "execute_result"
    }
   ],
   "source": [
    "dataset"
   ]
  },
  {
   "cell_type": "code",
   "execution_count": 39,
   "metadata": {},
   "outputs": [],
   "source": [
    "# now, we define lightfm mapper to use it later for checks\n",
    "lightfm_mapping = dataset.mapping()\n",
    "# lightfm_mapping"
   ]
  },
  {
   "cell_type": "code",
   "execution_count": 40,
   "metadata": {},
   "outputs": [
    {
     "name": "stdout",
     "output_type": "stream",
     "text": [
      "user mapper length -  539173\n",
      "user features mapper length -  539173\n",
      "movies mapper length -  13006\n",
      "Users movie features mapper length -  13006\n"
     ]
    }
   ],
   "source": [
    "lightfm_mapping = {\n",
    "    'users_mapping': lightfm_mapping[0],\n",
    "    'user_features_mapping': lightfm_mapping[1],\n",
    "    'items_mapping': lightfm_mapping[2],\n",
    "    'item_features_mapping': lightfm_mapping[3],\n",
    "}\n",
    "print('user mapper length - ', len(lightfm_mapping['users_mapping']))\n",
    "print('user features mapper length - ', len(lightfm_mapping['user_features_mapping']))\n",
    "print('movies mapper length - ', len(lightfm_mapping['items_mapping']))\n",
    "print('Users movie features mapper length - ', len(lightfm_mapping['item_features_mapping']))"
   ]
  },
  {
   "cell_type": "code",
   "execution_count": 41,
   "metadata": {},
   "outputs": [],
   "source": [
    "# here we create inverted mappers to check recommendations later\n",
    "lightfm_mapping['users_inv_mapping'] = {v: k for k, v in lightfm_mapping['users_mapping'].items()}\n",
    "lightfm_mapping['items_inv_mapping'] = {v: k for k, v in lightfm_mapping['items_mapping'].items()}"
   ]
  },
  {
   "cell_type": "code",
   "execution_count": 42,
   "metadata": {},
   "outputs": [],
   "source": [
    "# special iterator to use with lightfm\n",
    "def df_to_tuple_iterator(df: pd.DataFrame):\n",
    "    '''\n",
    "    :df: pd.DataFrame, interactions dataframe\n",
    "    returs iterator\n",
    "    '''\n",
    "    return zip(*df.values.T)\n",
    "\n",
    "def concat_last_to_list(t):\n",
    "    return (t[0], list(t[1:])[0])\n",
    "\n",
    "def df_to_tuple_list_iterator(df):\n",
    "    return map(concat_last_to_list, zip(*df.values.T))"
   ]
  },
  {
   "cell_type": "code",
   "execution_count": 43,
   "metadata": {},
   "outputs": [],
   "source": [
    "# defining train set on the whole interactions dataset (as HW you will have to split into test and train for evaluation)\n",
    "train_mat, train_mat_weights = dataset.build_interactions(df_to_tuple_iterator(local_train[['user_id', 'item_id']]))"
   ]
  },
  {
   "cell_type": "code",
   "execution_count": 168,
   "metadata": {},
   "outputs": [
    {
     "data": {
      "text/plain": [
       "<bound method Series.unique of 0           9506\n",
       "1           1659\n",
       "2           7638\n",
       "3           9506\n",
       "4           6686\n",
       "           ...  \n",
       "4195684     4880\n",
       "4195685     9673\n",
       "4195686    15297\n",
       "4195687    16197\n",
       "4195688     4436\n",
       "Name: item_id, Length: 4195689, dtype: int64>"
      ]
     },
     "metadata": {},
     "output_type": "display_data"
    }
   ],
   "source": [
    "display(interactions_filtered['item_id'].unique)"
   ]
  },
  {
   "cell_type": "code",
   "execution_count": 220,
   "metadata": {},
   "outputs": [],
   "source": []
  },
  {
   "cell_type": "code",
   "execution_count": 44,
   "metadata": {},
   "outputs": [
    {
     "data": {
      "text/plain": [
       "<539173x13006 sparse matrix of type '<class 'numpy.int32'>'\n",
       "\twith 2451040 stored elements in COOrdinate format>"
      ]
     },
     "execution_count": 44,
     "metadata": {},
     "output_type": "execute_result"
    }
   ],
   "source": [
    "train_mat"
   ]
  },
  {
   "cell_type": "code",
   "execution_count": 45,
   "metadata": {},
   "outputs": [
    {
     "data": {
      "text/plain": [
       "<539173x13006 sparse matrix of type '<class 'numpy.float32'>'\n",
       "\twith 2451040 stored elements in COOrdinate format>"
      ]
     },
     "execution_count": 45,
     "metadata": {},
     "output_type": "execute_result"
    }
   ],
   "source": [
    "train_mat_weights"
   ]
  },
  {
   "attachments": {},
   "cell_type": "markdown",
   "metadata": {},
   "source": [
    "## 2.4. Train LigthFM model"
   ]
  },
  {
   "cell_type": "code",
   "execution_count": 251,
   "metadata": {},
   "outputs": [],
   "source": [
    "# set params\n",
    "NO_COMPONENTS = 64\n",
    "LEARNING_RATE = .03\n",
    "LOSS = 'warp'\n",
    "MAX_SAMPLED = 5\n",
    "RANDOM_STATE = 42\n",
    "EPOCHS = 20"
   ]
  },
  {
   "cell_type": "code",
   "execution_count": 252,
   "metadata": {},
   "outputs": [],
   "source": [
    "# init model\n",
    "lfm_model = LightFM(\n",
    "    no_components = NO_COMPONENTS,\n",
    "    learning_rate = LEARNING_RATE,\n",
    "    loss = LOSS,\n",
    "    max_sampled = MAX_SAMPLED,\n",
    "    random_state = RANDOM_STATE\n",
    "    )"
   ]
  },
  {
   "cell_type": "code",
   "execution_count": 253,
   "metadata": {},
   "outputs": [
    {
     "name": "stderr",
     "output_type": "stream",
     "text": [
      "100%|██████████| 20/20 [00:54<00:00,  2.71s/it]\n"
     ]
    }
   ],
   "source": [
    "# execute training\n",
    "for _ in tqdm(range(EPOCHS), total = EPOCHS):\n",
    "    lfm_model.fit_partial(\n",
    "        train_mat,\n",
    "        num_threads = 4\n",
    "    )"
   ]
  },
  {
   "cell_type": "code",
   "execution_count": 254,
   "metadata": {},
   "outputs": [
    {
     "name": "stdout",
     "output_type": "stream",
     "text": [
      "Rekko for user 713676, row number in matrix - 62\n"
     ]
    }
   ],
   "source": [
    "# let's make sense-check\n",
    "top_N = 10\n",
    "user_id = local_train['user_id'][100]\n",
    "row_id = lightfm_mapping['users_mapping'][user_id]\n",
    "print(f'Rekko for user {user_id}, row number in matrix - {row_id}')"
   ]
  },
  {
   "cell_type": "code",
   "execution_count": 255,
   "metadata": {},
   "outputs": [
    {
     "data": {
      "text/plain": [
       "13006"
      ]
     },
     "execution_count": 255,
     "metadata": {},
     "output_type": "execute_result"
    }
   ],
   "source": [
    "all_cols = list(lightfm_mapping['items_mapping'].values())\n",
    "len(all_cols)"
   ]
  },
  {
   "cell_type": "code",
   "execution_count": 256,
   "metadata": {},
   "outputs": [
    {
     "data": {
      "text/plain": [
       "(array([ 2.2222135,  1.4464369, -1.9280975, ..., -2.1294303, -1.9549031,\n",
       "        -2.0654202], dtype=float32),\n",
       " (13006,))"
      ]
     },
     "execution_count": 256,
     "metadata": {},
     "output_type": "execute_result"
    }
   ],
   "source": [
    "pred = lfm_model.predict(\n",
    "    row_id,\n",
    "    all_cols,\n",
    "    num_threads = 4)\n",
    "pred, pred.shape"
   ]
  },
  {
   "cell_type": "code",
   "execution_count": 257,
   "metadata": {},
   "outputs": [
    {
     "data": {
      "text/plain": [
       "array([ 87,   5, 298, 506, 435, 302,  20, 168, 146, 675])"
      ]
     },
     "execution_count": 257,
     "metadata": {},
     "output_type": "execute_result"
    }
   ],
   "source": [
    "top_cols = np.argpartition(pred, -np.arange(top_N))[-top_N:][::-1]\n",
    "top_cols"
   ]
  },
  {
   "cell_type": "code",
   "execution_count": 258,
   "metadata": {},
   "outputs": [],
   "source": [
    "# crate mapper for movieId and title names\n",
    "item_name_mapper = dict(zip(movies_metadata['item_id'], movies_metadata['title']))"
   ]
  },
  {
   "cell_type": "code",
   "execution_count": 259,
   "metadata": {},
   "outputs": [
    {
     "data": {
      "text/html": [
       "<div>\n",
       "<style scoped>\n",
       "    .dataframe tbody tr th:only-of-type {\n",
       "        vertical-align: middle;\n",
       "    }\n",
       "\n",
       "    .dataframe tbody tr th {\n",
       "        vertical-align: top;\n",
       "    }\n",
       "\n",
       "    .dataframe thead th {\n",
       "        text-align: right;\n",
       "    }\n",
       "</style>\n",
       "<table border=\"1\" class=\"dataframe\">\n",
       "  <thead>\n",
       "    <tr style=\"text-align: right;\">\n",
       "      <th></th>\n",
       "      <th>col_id</th>\n",
       "      <th>item_id</th>\n",
       "      <th>title</th>\n",
       "    </tr>\n",
       "  </thead>\n",
       "  <tbody>\n",
       "    <tr>\n",
       "      <th>0</th>\n",
       "      <td>87</td>\n",
       "      <td>16166</td>\n",
       "      <td>Зверополис</td>\n",
       "    </tr>\n",
       "    <tr>\n",
       "      <th>1</th>\n",
       "      <td>5</td>\n",
       "      <td>7571</td>\n",
       "      <td>100% волк</td>\n",
       "    </tr>\n",
       "    <tr>\n",
       "      <th>2</th>\n",
       "      <td>298</td>\n",
       "      <td>13915</td>\n",
       "      <td>Вперёд</td>\n",
       "    </tr>\n",
       "    <tr>\n",
       "      <th>3</th>\n",
       "      <td>506</td>\n",
       "      <td>10761</td>\n",
       "      <td>Моана</td>\n",
       "    </tr>\n",
       "    <tr>\n",
       "      <th>4</th>\n",
       "      <td>435</td>\n",
       "      <td>13018</td>\n",
       "      <td>Король лев (2019)</td>\n",
       "    </tr>\n",
       "    <tr>\n",
       "      <th>5</th>\n",
       "      <td>302</td>\n",
       "      <td>12173</td>\n",
       "      <td>Мстители: Финал</td>\n",
       "    </tr>\n",
       "    <tr>\n",
       "      <th>6</th>\n",
       "      <td>20</td>\n",
       "      <td>7626</td>\n",
       "      <td>Мстители: Война бесконечности</td>\n",
       "    </tr>\n",
       "    <tr>\n",
       "      <th>7</th>\n",
       "      <td>168</td>\n",
       "      <td>3182</td>\n",
       "      <td>Ральф против Интернета</td>\n",
       "    </tr>\n",
       "    <tr>\n",
       "      <th>8</th>\n",
       "      <td>146</td>\n",
       "      <td>11310</td>\n",
       "      <td>Аладдин</td>\n",
       "    </tr>\n",
       "    <tr>\n",
       "      <th>9</th>\n",
       "      <td>675</td>\n",
       "      <td>13159</td>\n",
       "      <td>Рататуй</td>\n",
       "    </tr>\n",
       "  </tbody>\n",
       "</table>\n",
       "</div>"
      ],
      "text/plain": [
       "   col_id  item_id                          title\n",
       "0      87    16166                     Зверополис\n",
       "1       5     7571                      100% волк\n",
       "2     298    13915                         Вперёд\n",
       "3     506    10761                          Моана\n",
       "4     435    13018              Король лев (2019)\n",
       "5     302    12173                Мстители: Финал\n",
       "6      20     7626  Мстители: Война бесконечности\n",
       "7     168     3182         Ральф против Интернета\n",
       "8     146    11310                        Аладдин\n",
       "9     675    13159                        Рататуй"
      ]
     },
     "execution_count": 259,
     "metadata": {},
     "output_type": "execute_result"
    }
   ],
   "source": [
    "recs = pd.DataFrame({'col_id': top_cols})\n",
    "recs['item_id'] = recs['col_id'].map(lightfm_mapping['items_inv_mapping'].get)\n",
    "recs['title'] = recs['item_id'].map(item_name_mapper)\n",
    "recs"
   ]
  },
  {
   "cell_type": "code",
   "execution_count": 260,
   "metadata": {},
   "outputs": [
    {
     "name": "stdout",
     "output_type": "stream",
     "text": [
      "Rekko for user 869219, row number in matrix - 675\n"
     ]
    }
   ],
   "source": [
    "# let's make sense-check\n",
    "top_N = 10\n",
    "user_id = local_train['user_id'][1000]\n",
    "row_id = lightfm_mapping['users_mapping'][user_id]\n",
    "print(f'Rekko for user {user_id}, row number in matrix - {row_id}')"
   ]
  },
  {
   "cell_type": "code",
   "execution_count": 261,
   "metadata": {},
   "outputs": [
    {
     "data": {
      "text/plain": [
       "(array([-0.19702657, -0.38245714, -2.658608  , ..., -3.2753859 ,\n",
       "        -3.0609252 , -2.8367202 ], dtype=float32),\n",
       " (13006,))"
      ]
     },
     "execution_count": 261,
     "metadata": {},
     "output_type": "execute_result"
    }
   ],
   "source": [
    "pred = lfm_model.predict(\n",
    "    row_id,\n",
    "    all_cols,\n",
    "    num_threads = 4)\n",
    "pred, pred.shape\n"
   ]
  },
  {
   "cell_type": "code",
   "execution_count": 262,
   "metadata": {},
   "outputs": [
    {
     "data": {
      "text/plain": [
       "array([ 222,  682,   52,  207,  962,  333, 2935, 2059,  306, 5235])"
      ]
     },
     "execution_count": 262,
     "metadata": {},
     "output_type": "execute_result"
    }
   ],
   "source": [
    "top_cols = np.argpartition(pred, -np.arange(top_N))[-top_N:][::-1]\n",
    "top_cols"
   ]
  },
  {
   "cell_type": "code",
   "execution_count": 263,
   "metadata": {},
   "outputs": [
    {
     "data": {
      "text/html": [
       "<div>\n",
       "<style scoped>\n",
       "    .dataframe tbody tr th:only-of-type {\n",
       "        vertical-align: middle;\n",
       "    }\n",
       "\n",
       "    .dataframe tbody tr th {\n",
       "        vertical-align: top;\n",
       "    }\n",
       "\n",
       "    .dataframe thead th {\n",
       "        text-align: right;\n",
       "    }\n",
       "</style>\n",
       "<table border=\"1\" class=\"dataframe\">\n",
       "  <thead>\n",
       "    <tr style=\"text-align: right;\">\n",
       "      <th></th>\n",
       "      <th>col_id</th>\n",
       "      <th>item_id</th>\n",
       "      <th>title</th>\n",
       "    </tr>\n",
       "  </thead>\n",
       "  <tbody>\n",
       "    <tr>\n",
       "      <th>0</th>\n",
       "      <td>222</td>\n",
       "      <td>676</td>\n",
       "      <td>Человек-невидимка</td>\n",
       "    </tr>\n",
       "    <tr>\n",
       "      <th>1</th>\n",
       "      <td>682</td>\n",
       "      <td>16361</td>\n",
       "      <td>Doom: Аннигиляция</td>\n",
       "    </tr>\n",
       "    <tr>\n",
       "      <th>2</th>\n",
       "      <td>52</td>\n",
       "      <td>2647</td>\n",
       "      <td>Идеальный пациент</td>\n",
       "    </tr>\n",
       "    <tr>\n",
       "      <th>3</th>\n",
       "      <td>207</td>\n",
       "      <td>11143</td>\n",
       "      <td>На пятьдесят оттенков темнее</td>\n",
       "    </tr>\n",
       "    <tr>\n",
       "      <th>4</th>\n",
       "      <td>962</td>\n",
       "      <td>9335</td>\n",
       "      <td>Подводная братва</td>\n",
       "    </tr>\n",
       "    <tr>\n",
       "      <th>5</th>\n",
       "      <td>333</td>\n",
       "      <td>4141</td>\n",
       "      <td>Пятьдесят оттенков серого</td>\n",
       "    </tr>\n",
       "    <tr>\n",
       "      <th>6</th>\n",
       "      <td>2935</td>\n",
       "      <td>1090</td>\n",
       "      <td>Нерождённый</td>\n",
       "    </tr>\n",
       "    <tr>\n",
       "      <th>7</th>\n",
       "      <td>2059</td>\n",
       "      <td>10647</td>\n",
       "      <td>Винчестер. Дом, который построили призраки</td>\n",
       "    </tr>\n",
       "    <tr>\n",
       "      <th>8</th>\n",
       "      <td>306</td>\n",
       "      <td>9169</td>\n",
       "      <td>Взаперти</td>\n",
       "    </tr>\n",
       "    <tr>\n",
       "      <th>9</th>\n",
       "      <td>5235</td>\n",
       "      <td>13948</td>\n",
       "      <td>Смерть ей к лицу</td>\n",
       "    </tr>\n",
       "  </tbody>\n",
       "</table>\n",
       "</div>"
      ],
      "text/plain": [
       "   col_id  item_id                                       title\n",
       "0     222      676                           Человек-невидимка\n",
       "1     682    16361                           Doom: Аннигиляция\n",
       "2      52     2647                           Идеальный пациент\n",
       "3     207    11143                На пятьдесят оттенков темнее\n",
       "4     962     9335                            Подводная братва\n",
       "5     333     4141                   Пятьдесят оттенков серого\n",
       "6    2935     1090                                 Нерождённый\n",
       "7    2059    10647  Винчестер. Дом, который построили призраки\n",
       "8     306     9169                                    Взаперти\n",
       "9    5235    13948                            Смерть ей к лицу"
      ]
     },
     "execution_count": 263,
     "metadata": {},
     "output_type": "execute_result"
    }
   ],
   "source": [
    "recs = pd.DataFrame({'col_id': top_cols})\n",
    "recs['item_id'] = recs['col_id'].map(lightfm_mapping['items_inv_mapping'].get)\n",
    "recs['title'] = recs['item_id'].map(item_name_mapper)\n",
    "recs"
   ]
  },
  {
   "cell_type": "code",
   "execution_count": 264,
   "metadata": {},
   "outputs": [
    {
     "data": {
      "text/plain": [
       "144739"
      ]
     },
     "execution_count": 264,
     "metadata": {},
     "output_type": "execute_result"
    }
   ],
   "source": [
    "# let's make predictions for all users in test\n",
    "test_preds = pd.DataFrame({\n",
    "    'user_id': local_test['user_id'].unique()\n",
    "})\n",
    "len(test_preds)"
   ]
  },
  {
   "cell_type": "code",
   "execution_count": 265,
   "metadata": {},
   "outputs": [],
   "source": [
    "# all_recs = pd.DataFrame()\n",
    "# for user in tqdm_notebook(users_mapping.keys()):\n",
    "#     row_id = users_mapping[user]\n",
    "#     pred = lfm_model.predict(\n",
    "#         row_id,\n",
    "#         all_cols,\n",
    "#         num_threads = 4)\n",
    "#     top_cols = np.argpartition(pred, -np.arange(top_N))[-top_N:][::-1]\n",
    "#     user_recs = pd.DataFrame({'col_id': top_cols})\n",
    "#     user_recs['item_id'] = user_recs['col_id'].map(lightfm_mapping['items_inv_mapping'].get)\n",
    "#     user_recs['title'] = user_recs['item_id'].map(item_name_mapper)\n",
    "\n",
    "#     all_recs = pd.concat([all_recs, user_recs], ignore_index = True)"
   ]
  },
  {
   "cell_type": "code",
   "execution_count": 266,
   "metadata": {},
   "outputs": [],
   "source": [
    "def generate_lightfm_recs_mapper(\n",
    "        model: object,\n",
    "        item_ids: list,\n",
    "        known_items: dict,\n",
    "        user_features: list,\n",
    "        item_features: list,\n",
    "        N: int,\n",
    "        user_mapping: dict,\n",
    "        item_inv_mapping: dict,\n",
    "        num_threads: int = 4\n",
    "        ):\n",
    "    def _recs_mapper(user):\n",
    "        user_id = user_mapping[user]\n",
    "        recs = model.predict(\n",
    "            user_id,\n",
    "            item_ids,\n",
    "            user_features = user_features,\n",
    "            item_features = item_features,\n",
    "            num_threads = num_threads)\n",
    "        \n",
    "        additional_N = len(known_items[user_id]) if user_id in known_items else 0\n",
    "        total_N = N + additional_N\n",
    "        top_cols = np.argpartition(recs, -np.arange(total_N))[-total_N:][::-1]\n",
    "        \n",
    "        final_recs = [item_inv_mapping[item] for item in top_cols]\n",
    "        if additional_N > 0:\n",
    "            filter_items = known_items[user_id]\n",
    "            final_recs = [item for item in final_recs if item not in filter_items]\n",
    "        return final_recs[:N]\n",
    "    return _recs_mapper"
   ]
  },
  {
   "cell_type": "code",
   "execution_count": 267,
   "metadata": {},
   "outputs": [],
   "source": [
    "mapper = generate_lightfm_recs_mapper(\n",
    "    lfm_model, \n",
    "    item_ids = all_cols, \n",
    "    known_items = dict(),\n",
    "    N = top_N,\n",
    "    user_features = None, \n",
    "    item_features = None, \n",
    "    user_mapping = lightfm_mapping['users_mapping'],\n",
    "    item_inv_mapping = lightfm_mapping['items_inv_mapping'],\n",
    "    num_threads = 20\n",
    ")"
   ]
  },
  {
   "cell_type": "code",
   "execution_count": 272,
   "metadata": {},
   "outputs": [],
   "source": [
    "test_preds['item_id'] = test_preds['user_id'].map(mapper)"
   ]
  },
  {
   "cell_type": "code",
   "execution_count": 273,
   "metadata": {},
   "outputs": [
    {
     "data": {
      "text/html": [
       "<div>\n",
       "<style scoped>\n",
       "    .dataframe tbody tr th:only-of-type {\n",
       "        vertical-align: middle;\n",
       "    }\n",
       "\n",
       "    .dataframe tbody tr th {\n",
       "        vertical-align: top;\n",
       "    }\n",
       "\n",
       "    .dataframe thead th {\n",
       "        text-align: right;\n",
       "    }\n",
       "</style>\n",
       "<table border=\"1\" class=\"dataframe\">\n",
       "  <thead>\n",
       "    <tr style=\"text-align: right;\">\n",
       "      <th></th>\n",
       "      <th>user_id</th>\n",
       "      <th>item_id</th>\n",
       "    </tr>\n",
       "  </thead>\n",
       "  <tbody>\n",
       "    <tr>\n",
       "      <th>0</th>\n",
       "      <td>646903</td>\n",
       "      <td>[10440, 14741, 16361, 9728, 9169, 13865, 14431...</td>\n",
       "    </tr>\n",
       "    <tr>\n",
       "      <th>1</th>\n",
       "      <td>215229</td>\n",
       "      <td>[13865, 9728, 10440, 3734, 15297, 4880, 4151, ...</td>\n",
       "    </tr>\n",
       "    <tr>\n",
       "      <th>2</th>\n",
       "      <td>81786</td>\n",
       "      <td>[15297, 10440, 4151, 2657, 3734, 9728, 13865, ...</td>\n",
       "    </tr>\n",
       "    <tr>\n",
       "      <th>3</th>\n",
       "      <td>985101</td>\n",
       "      <td>[10440, 15297, 13865, 4151, 9728, 3734, 2657, ...</td>\n",
       "    </tr>\n",
       "    <tr>\n",
       "      <th>4</th>\n",
       "      <td>205710</td>\n",
       "      <td>[9728, 4436, 13915, 7571, 16166, 3182, 7626, 1...</td>\n",
       "    </tr>\n",
       "    <tr>\n",
       "      <th>...</th>\n",
       "      <td>...</td>\n",
       "      <td>...</td>\n",
       "    </tr>\n",
       "    <tr>\n",
       "      <th>144734</th>\n",
       "      <td>800346</td>\n",
       "      <td>[10440, 15297, 13865, 4151, 9728, 3734, 2657, ...</td>\n",
       "    </tr>\n",
       "    <tr>\n",
       "      <th>144735</th>\n",
       "      <td>247657</td>\n",
       "      <td>[10440, 15297, 13865, 4151, 9728, 3734, 2657, ...</td>\n",
       "    </tr>\n",
       "    <tr>\n",
       "      <th>144736</th>\n",
       "      <td>673254</td>\n",
       "      <td>[15297, 10440, 4151, 13865, 4260, 9728, 3734, ...</td>\n",
       "    </tr>\n",
       "    <tr>\n",
       "      <th>144737</th>\n",
       "      <td>114918</td>\n",
       "      <td>[10440, 13865, 15297, 2657, 9728, 4880, 4151, ...</td>\n",
       "    </tr>\n",
       "    <tr>\n",
       "      <th>144738</th>\n",
       "      <td>119646</td>\n",
       "      <td>[10440, 13865, 13723, 15297, 9728, 3734, 12995...</td>\n",
       "    </tr>\n",
       "  </tbody>\n",
       "</table>\n",
       "<p>144739 rows × 2 columns</p>\n",
       "</div>"
      ],
      "text/plain": [
       "        user_id                                            item_id\n",
       "0        646903  [10440, 14741, 16361, 9728, 9169, 13865, 14431...\n",
       "1        215229  [13865, 9728, 10440, 3734, 15297, 4880, 4151, ...\n",
       "2         81786  [15297, 10440, 4151, 2657, 3734, 9728, 13865, ...\n",
       "3        985101  [10440, 15297, 13865, 4151, 9728, 3734, 2657, ...\n",
       "4        205710  [9728, 4436, 13915, 7571, 16166, 3182, 7626, 1...\n",
       "...         ...                                                ...\n",
       "144734   800346  [10440, 15297, 13865, 4151, 9728, 3734, 2657, ...\n",
       "144735   247657  [10440, 15297, 13865, 4151, 9728, 3734, 2657, ...\n",
       "144736   673254  [15297, 10440, 4151, 13865, 4260, 9728, 3734, ...\n",
       "144737   114918  [10440, 13865, 15297, 2657, 9728, 4880, 4151, ...\n",
       "144738   119646  [10440, 13865, 13723, 15297, 9728, 3734, 12995...\n",
       "\n",
       "[144739 rows x 2 columns]"
      ]
     },
     "execution_count": 273,
     "metadata": {},
     "output_type": "execute_result"
    }
   ],
   "source": [
    "test_preds"
   ]
  },
  {
   "cell_type": "code",
   "execution_count": 275,
   "metadata": {},
   "outputs": [
    {
     "data": {
      "text/plain": [
       "(1447390, 2)"
      ]
     },
     "execution_count": 275,
     "metadata": {},
     "output_type": "execute_result"
    }
   ],
   "source": [
    "test_preds = test_preds.explode('item_id')\n",
    "test_preds.shape"
   ]
  },
  {
   "cell_type": "code",
   "execution_count": 276,
   "metadata": {},
   "outputs": [],
   "source": [
    "test_preds['rank'] = test_preds.groupby('user_id').cumcount() + 1 "
   ]
  },
  {
   "cell_type": "code",
   "execution_count": 277,
   "metadata": {},
   "outputs": [
    {
     "data": {
      "text/html": [
       "<div>\n",
       "<style scoped>\n",
       "    .dataframe tbody tr th:only-of-type {\n",
       "        vertical-align: middle;\n",
       "    }\n",
       "\n",
       "    .dataframe tbody tr th {\n",
       "        vertical-align: top;\n",
       "    }\n",
       "\n",
       "    .dataframe thead th {\n",
       "        text-align: right;\n",
       "    }\n",
       "</style>\n",
       "<table border=\"1\" class=\"dataframe\">\n",
       "  <thead>\n",
       "    <tr style=\"text-align: right;\">\n",
       "      <th></th>\n",
       "      <th>user_id</th>\n",
       "      <th>item_id</th>\n",
       "      <th>rank</th>\n",
       "    </tr>\n",
       "  </thead>\n",
       "  <tbody>\n",
       "    <tr>\n",
       "      <th>0</th>\n",
       "      <td>646903</td>\n",
       "      <td>10440</td>\n",
       "      <td>1</td>\n",
       "    </tr>\n",
       "    <tr>\n",
       "      <th>0</th>\n",
       "      <td>646903</td>\n",
       "      <td>14741</td>\n",
       "      <td>2</td>\n",
       "    </tr>\n",
       "    <tr>\n",
       "      <th>0</th>\n",
       "      <td>646903</td>\n",
       "      <td>16361</td>\n",
       "      <td>3</td>\n",
       "    </tr>\n",
       "    <tr>\n",
       "      <th>0</th>\n",
       "      <td>646903</td>\n",
       "      <td>9728</td>\n",
       "      <td>4</td>\n",
       "    </tr>\n",
       "    <tr>\n",
       "      <th>0</th>\n",
       "      <td>646903</td>\n",
       "      <td>9169</td>\n",
       "      <td>5</td>\n",
       "    </tr>\n",
       "  </tbody>\n",
       "</table>\n",
       "</div>"
      ],
      "text/plain": [
       "   user_id item_id  rank\n",
       "0   646903   10440     1\n",
       "0   646903   14741     2\n",
       "0   646903   16361     3\n",
       "0   646903    9728     4\n",
       "0   646903    9169     5"
      ]
     },
     "execution_count": 277,
     "metadata": {},
     "output_type": "execute_result"
    }
   ],
   "source": [
    "test_preds.head()"
   ]
  },
  {
   "cell_type": "code",
   "execution_count": 280,
   "metadata": {},
   "outputs": [
    {
     "data": {
      "text/html": [
       "<div>\n",
       "<style scoped>\n",
       "    .dataframe tbody tr th:only-of-type {\n",
       "        vertical-align: middle;\n",
       "    }\n",
       "\n",
       "    .dataframe tbody tr th {\n",
       "        vertical-align: top;\n",
       "    }\n",
       "\n",
       "    .dataframe thead th {\n",
       "        text-align: right;\n",
       "    }\n",
       "</style>\n",
       "<table border=\"1\" class=\"dataframe\">\n",
       "  <thead>\n",
       "    <tr style=\"text-align: right;\">\n",
       "      <th></th>\n",
       "      <th>user_id</th>\n",
       "      <th>item_id</th>\n",
       "      <th>rank</th>\n",
       "      <th>item_name</th>\n",
       "    </tr>\n",
       "  </thead>\n",
       "  <tbody>\n",
       "    <tr>\n",
       "      <th>0</th>\n",
       "      <td>646903</td>\n",
       "      <td>10440</td>\n",
       "      <td>1</td>\n",
       "      <td>Хрустальный</td>\n",
       "    </tr>\n",
       "    <tr>\n",
       "      <th>0</th>\n",
       "      <td>646903</td>\n",
       "      <td>14741</td>\n",
       "      <td>2</td>\n",
       "      <td>Цвет из иных миров</td>\n",
       "    </tr>\n",
       "    <tr>\n",
       "      <th>0</th>\n",
       "      <td>646903</td>\n",
       "      <td>16361</td>\n",
       "      <td>3</td>\n",
       "      <td>Doom: Аннигиляция</td>\n",
       "    </tr>\n",
       "    <tr>\n",
       "      <th>0</th>\n",
       "      <td>646903</td>\n",
       "      <td>9728</td>\n",
       "      <td>4</td>\n",
       "      <td>Гнев человеческий</td>\n",
       "    </tr>\n",
       "    <tr>\n",
       "      <th>0</th>\n",
       "      <td>646903</td>\n",
       "      <td>9169</td>\n",
       "      <td>5</td>\n",
       "      <td>Взаперти</td>\n",
       "    </tr>\n",
       "    <tr>\n",
       "      <th>0</th>\n",
       "      <td>646903</td>\n",
       "      <td>13865</td>\n",
       "      <td>6</td>\n",
       "      <td>Девятаев</td>\n",
       "    </tr>\n",
       "    <tr>\n",
       "      <th>0</th>\n",
       "      <td>646903</td>\n",
       "      <td>14431</td>\n",
       "      <td>7</td>\n",
       "      <td>Приворот. Чёрное венчание</td>\n",
       "    </tr>\n",
       "    <tr>\n",
       "      <th>0</th>\n",
       "      <td>646903</td>\n",
       "      <td>14359</td>\n",
       "      <td>8</td>\n",
       "      <td>Проклятие ведьмы</td>\n",
       "    </tr>\n",
       "    <tr>\n",
       "      <th>0</th>\n",
       "      <td>646903</td>\n",
       "      <td>5287</td>\n",
       "      <td>9</td>\n",
       "      <td>Брешь</td>\n",
       "    </tr>\n",
       "    <tr>\n",
       "      <th>0</th>\n",
       "      <td>646903</td>\n",
       "      <td>1287</td>\n",
       "      <td>10</td>\n",
       "      <td>Терминатор: Тёмные судьбы</td>\n",
       "    </tr>\n",
       "    <tr>\n",
       "      <th>1</th>\n",
       "      <td>215229</td>\n",
       "      <td>13865</td>\n",
       "      <td>1</td>\n",
       "      <td>Девятаев</td>\n",
       "    </tr>\n",
       "    <tr>\n",
       "      <th>1</th>\n",
       "      <td>215229</td>\n",
       "      <td>9728</td>\n",
       "      <td>2</td>\n",
       "      <td>Гнев человеческий</td>\n",
       "    </tr>\n",
       "    <tr>\n",
       "      <th>1</th>\n",
       "      <td>215229</td>\n",
       "      <td>10440</td>\n",
       "      <td>3</td>\n",
       "      <td>Хрустальный</td>\n",
       "    </tr>\n",
       "    <tr>\n",
       "      <th>1</th>\n",
       "      <td>215229</td>\n",
       "      <td>3734</td>\n",
       "      <td>4</td>\n",
       "      <td>Прабабушка легкого поведения</td>\n",
       "    </tr>\n",
       "    <tr>\n",
       "      <th>1</th>\n",
       "      <td>215229</td>\n",
       "      <td>15297</td>\n",
       "      <td>5</td>\n",
       "      <td>Клиника счастья</td>\n",
       "    </tr>\n",
       "    <tr>\n",
       "      <th>1</th>\n",
       "      <td>215229</td>\n",
       "      <td>4880</td>\n",
       "      <td>6</td>\n",
       "      <td>Афера</td>\n",
       "    </tr>\n",
       "    <tr>\n",
       "      <th>1</th>\n",
       "      <td>215229</td>\n",
       "      <td>4151</td>\n",
       "      <td>7</td>\n",
       "      <td>Секреты семейной жизни</td>\n",
       "    </tr>\n",
       "    <tr>\n",
       "      <th>1</th>\n",
       "      <td>215229</td>\n",
       "      <td>12995</td>\n",
       "      <td>8</td>\n",
       "      <td>Восемь сотен</td>\n",
       "    </tr>\n",
       "    <tr>\n",
       "      <th>1</th>\n",
       "      <td>215229</td>\n",
       "      <td>11237</td>\n",
       "      <td>9</td>\n",
       "      <td>День города</td>\n",
       "    </tr>\n",
       "    <tr>\n",
       "      <th>1</th>\n",
       "      <td>215229</td>\n",
       "      <td>1449</td>\n",
       "      <td>10</td>\n",
       "      <td>Чкалов</td>\n",
       "    </tr>\n",
       "    <tr>\n",
       "      <th>2</th>\n",
       "      <td>81786</td>\n",
       "      <td>15297</td>\n",
       "      <td>1</td>\n",
       "      <td>Клиника счастья</td>\n",
       "    </tr>\n",
       "    <tr>\n",
       "      <th>2</th>\n",
       "      <td>81786</td>\n",
       "      <td>10440</td>\n",
       "      <td>2</td>\n",
       "      <td>Хрустальный</td>\n",
       "    </tr>\n",
       "    <tr>\n",
       "      <th>2</th>\n",
       "      <td>81786</td>\n",
       "      <td>4151</td>\n",
       "      <td>3</td>\n",
       "      <td>Секреты семейной жизни</td>\n",
       "    </tr>\n",
       "    <tr>\n",
       "      <th>2</th>\n",
       "      <td>81786</td>\n",
       "      <td>2657</td>\n",
       "      <td>4</td>\n",
       "      <td>Подслушано</td>\n",
       "    </tr>\n",
       "    <tr>\n",
       "      <th>2</th>\n",
       "      <td>81786</td>\n",
       "      <td>3734</td>\n",
       "      <td>5</td>\n",
       "      <td>Прабабушка легкого поведения</td>\n",
       "    </tr>\n",
       "    <tr>\n",
       "      <th>2</th>\n",
       "      <td>81786</td>\n",
       "      <td>9728</td>\n",
       "      <td>6</td>\n",
       "      <td>Гнев человеческий</td>\n",
       "    </tr>\n",
       "    <tr>\n",
       "      <th>2</th>\n",
       "      <td>81786</td>\n",
       "      <td>13865</td>\n",
       "      <td>7</td>\n",
       "      <td>Девятаев</td>\n",
       "    </tr>\n",
       "    <tr>\n",
       "      <th>2</th>\n",
       "      <td>81786</td>\n",
       "      <td>142</td>\n",
       "      <td>8</td>\n",
       "      <td>Маша</td>\n",
       "    </tr>\n",
       "    <tr>\n",
       "      <th>2</th>\n",
       "      <td>81786</td>\n",
       "      <td>6809</td>\n",
       "      <td>9</td>\n",
       "      <td>Дуров</td>\n",
       "    </tr>\n",
       "    <tr>\n",
       "      <th>2</th>\n",
       "      <td>81786</td>\n",
       "      <td>4880</td>\n",
       "      <td>10</td>\n",
       "      <td>Афера</td>\n",
       "    </tr>\n",
       "  </tbody>\n",
       "</table>\n",
       "</div>"
      ],
      "text/plain": [
       "   user_id item_id  rank                     item_name\n",
       "0   646903   10440     1                   Хрустальный\n",
       "0   646903   14741     2            Цвет из иных миров\n",
       "0   646903   16361     3             Doom: Аннигиляция\n",
       "0   646903    9728     4             Гнев человеческий\n",
       "0   646903    9169     5                      Взаперти\n",
       "0   646903   13865     6                      Девятаев\n",
       "0   646903   14431     7     Приворот. Чёрное венчание\n",
       "0   646903   14359     8              Проклятие ведьмы\n",
       "0   646903    5287     9                         Брешь\n",
       "0   646903    1287    10     Терминатор: Тёмные судьбы\n",
       "1   215229   13865     1                      Девятаев\n",
       "1   215229    9728     2             Гнев человеческий\n",
       "1   215229   10440     3                   Хрустальный\n",
       "1   215229    3734     4  Прабабушка легкого поведения\n",
       "1   215229   15297     5               Клиника счастья\n",
       "1   215229    4880     6                         Афера\n",
       "1   215229    4151     7        Секреты семейной жизни\n",
       "1   215229   12995     8                  Восемь сотен\n",
       "1   215229   11237     9                   День города\n",
       "1   215229    1449    10                        Чкалов\n",
       "2    81786   15297     1               Клиника счастья\n",
       "2    81786   10440     2                   Хрустальный\n",
       "2    81786    4151     3        Секреты семейной жизни\n",
       "2    81786    2657     4                    Подслушано\n",
       "2    81786    3734     5  Прабабушка легкого поведения\n",
       "2    81786    9728     6             Гнев человеческий\n",
       "2    81786   13865     7                      Девятаев\n",
       "2    81786     142     8                          Маша\n",
       "2    81786    6809     9                         Дуров\n",
       "2    81786    4880    10                         Афера"
      ]
     },
     "execution_count": 280,
     "metadata": {},
     "output_type": "execute_result"
    }
   ],
   "source": [
    "test_preds['item_name'] = test_preds['item_id'].map(item_name_mapper)\n",
    "test_preds.head(30)"
   ]
  },
  {
   "cell_type": "code",
   "execution_count": 279,
   "metadata": {},
   "outputs": [
    {
     "data": {
      "text/plain": [
       "1739"
      ]
     },
     "execution_count": 279,
     "metadata": {},
     "output_type": "execute_result"
    }
   ],
   "source": [
    "# sense check for diversity of recommendations\n",
    "test_preds.item_id.nunique()"
   ]
  },
  {
   "attachments": {},
   "cell_type": "markdown",
   "metadata": {},
   "source": [
    "## 2.5. CatBoostClassifier"
   ]
  },
  {
   "attachments": {},
   "cell_type": "markdown",
   "metadata": {},
   "source": [
    "### 2.5.1. Data Preparation"
   ]
  },
  {
   "attachments": {},
   "cell_type": "markdown",
   "metadata": {},
   "source": [
    "Now, we need to creat 0/1 as indication of interaction:\n",
    "\n",
    "- positive event -- 1, if watch_pct is not null;\n",
    "- negative venet -- 0 otherwise"
   ]
  },
  {
   "cell_type": "code",
   "execution_count": 71,
   "metadata": {},
   "outputs": [
    {
     "data": {
      "text/plain": [
       "(77563, 8)"
      ]
     },
     "execution_count": 71,
     "metadata": {},
     "output_type": "execute_result"
    }
   ],
   "source": [
    "positive_preds = pd.merge(test_preds, local_test, how = 'inner', on = ['user_id', 'item_id'])\n",
    "positive_preds['target'] = 1\n",
    "positive_preds.shape"
   ]
  },
  {
   "cell_type": "code",
   "execution_count": 72,
   "metadata": {},
   "outputs": [
    {
     "data": {
      "text/plain": [
       "(273965, 8)"
      ]
     },
     "execution_count": 72,
     "metadata": {},
     "output_type": "execute_result"
    }
   ],
   "source": [
    "negative_preds = pd.merge(test_preds, local_test, how = 'left', on = ['user_id', 'item_id'])\n",
    "negative_preds = negative_preds.loc[negative_preds['watched_pct'].isnull()].sample(frac = .2)\n",
    "negative_preds['target'] = 0\n",
    "negative_preds.shape"
   ]
  },
  {
   "cell_type": "code",
   "execution_count": 73,
   "metadata": {},
   "outputs": [],
   "source": [
    "# random split to train ranker\n",
    "train_users, test_users = train_test_split(\n",
    "    local_test['user_id'].unique(),\n",
    "    test_size = .2,\n",
    "    random_state = 13\n",
    "    )"
   ]
  },
  {
   "cell_type": "code",
   "execution_count": 74,
   "metadata": {},
   "outputs": [],
   "source": [
    "cbm_train_set = shuffle(\n",
    "    pd.concat(\n",
    "    [positive_preds.loc[positive_preds['user_id'].isin(train_users)],\n",
    "    negative_preds.loc[negative_preds['user_id'].isin(train_users)]]\n",
    "    )\n",
    ")"
   ]
  },
  {
   "cell_type": "code",
   "execution_count": 75,
   "metadata": {},
   "outputs": [],
   "source": [
    "cbm_test_set = shuffle(\n",
    "    pd.concat(\n",
    "    [positive_preds.loc[positive_preds['user_id'].isin(test_users)],\n",
    "    negative_preds.loc[negative_preds['user_id'].isin(test_users)]]\n",
    "    )\n",
    ")"
   ]
  },
  {
   "cell_type": "code",
   "execution_count": 76,
   "metadata": {},
   "outputs": [
    {
     "name": "stdout",
     "output_type": "stream",
     "text": [
      "TRAIN:           user_id       rank   total_dur  watched_pct     target\n",
      "count  281172.000 281172.000   61862.000    61862.000 281172.000\n",
      "mean   549123.290      5.291   18601.904       65.298      0.220\n",
      "std    316489.806      2.886   39027.982       36.848      0.414\n",
      "min        11.000      1.000     301.000        0.000      0.000\n",
      "25%    274999.000      3.000    4006.250       25.000      0.000\n",
      "50%    549908.000      5.000    7802.000       80.000      0.000\n",
      "75%    822715.750      8.000   22667.750      100.000      0.000\n",
      "max   1097528.000     10.000 3127021.000      100.000      1.000 \n",
      ", TEST:           user_id      rank   total_dur  watched_pct    target\n",
      "count   70356.000 70356.000   15701.000    15701.000 70356.000\n",
      "mean   548446.769     5.296   19211.613       64.979     0.223\n",
      "std    317216.670     2.888   37892.571       36.952     0.416\n",
      "min       106.000     1.000     301.000        0.000     0.000\n",
      "25%    273241.750     3.000    3875.000       25.000     0.000\n",
      "50%    550053.000     5.000    7764.000       80.000     0.000\n",
      "75%    823665.000     8.000   22922.000      100.000     0.000\n",
      "max   1097486.000    10.000 1083250.000      100.000     1.000\n"
     ]
    }
   ],
   "source": [
    "print(f'TRAIN: {cbm_train_set.describe()} \\n, TEST: {cbm_test_set.describe()}')"
   ]
  },
  {
   "cell_type": "code",
   "execution_count": 77,
   "metadata": {},
   "outputs": [],
   "source": [
    "# in this tutorial, I will not do any feature aggregation - use default ones from data\n",
    "USER_FEATURES = ['age', 'income', 'sex', 'kids_flg']\n",
    "ITEM_FEATURES = ['content_type', 'release_year', 'for_kids', 'age_rating']"
   ]
  },
  {
   "cell_type": "code",
   "execution_count": 78,
   "metadata": {},
   "outputs": [],
   "source": [
    "# joins user features\n",
    "cbm_train_set = pd.merge(cbm_train_set, users_data[['user_id'] + USER_FEATURES],\n",
    "                         how = 'left', on = ['user_id'])\n",
    "cbm_test_set = pd.merge(cbm_test_set, users_data[['user_id'] + USER_FEATURES],\n",
    "                        how = 'left', on = ['user_id'])\n"
   ]
  },
  {
   "cell_type": "code",
   "execution_count": 79,
   "metadata": {},
   "outputs": [],
   "source": [
    "# joins item features\n",
    "cbm_train_set = pd.merge(cbm_train_set, movies_metadata[['item_id'] + ITEM_FEATURES],\n",
    "                         how = 'left', on = ['item_id'])\n",
    "cbm_test_set = pd.merge(cbm_test_set, movies_metadata[['item_id'] + ITEM_FEATURES],\n",
    "                        how = 'left', on = ['item_id'])\n"
   ]
  },
  {
   "cell_type": "code",
   "execution_count": 80,
   "metadata": {},
   "outputs": [
    {
     "name": "stdout",
     "output_type": "stream",
     "text": [
      "(281172, 16) (70356, 16)\n"
     ]
    }
   ],
   "source": [
    "print(cbm_train_set.shape, cbm_test_set.shape)"
   ]
  },
  {
   "cell_type": "code",
   "execution_count": 81,
   "metadata": {},
   "outputs": [
    {
     "data": {
      "text/html": [
       "<div>\n",
       "<style scoped>\n",
       "    .dataframe tbody tr th:only-of-type {\n",
       "        vertical-align: middle;\n",
       "    }\n",
       "\n",
       "    .dataframe tbody tr th {\n",
       "        vertical-align: top;\n",
       "    }\n",
       "\n",
       "    .dataframe thead th {\n",
       "        text-align: right;\n",
       "    }\n",
       "</style>\n",
       "<table border=\"1\" class=\"dataframe\">\n",
       "  <thead>\n",
       "    <tr style=\"text-align: right;\">\n",
       "      <th></th>\n",
       "      <th>user_id</th>\n",
       "      <th>item_id</th>\n",
       "      <th>rank</th>\n",
       "      <th>item_name</th>\n",
       "      <th>last_watch_dt</th>\n",
       "      <th>total_dur</th>\n",
       "      <th>watched_pct</th>\n",
       "      <th>target</th>\n",
       "      <th>age</th>\n",
       "      <th>income</th>\n",
       "      <th>sex</th>\n",
       "      <th>kids_flg</th>\n",
       "      <th>content_type</th>\n",
       "      <th>release_year</th>\n",
       "      <th>for_kids</th>\n",
       "      <th>age_rating</th>\n",
       "    </tr>\n",
       "  </thead>\n",
       "  <tbody>\n",
       "    <tr>\n",
       "      <th>0</th>\n",
       "      <td>906267</td>\n",
       "      <td>13865</td>\n",
       "      <td>2</td>\n",
       "      <td>Девятаев</td>\n",
       "      <td>2021-07-18</td>\n",
       "      <td>805.000</td>\n",
       "      <td>13.000</td>\n",
       "      <td>1</td>\n",
       "      <td>age_45_54</td>\n",
       "      <td>income_20_40</td>\n",
       "      <td>М</td>\n",
       "      <td>0.000</td>\n",
       "      <td>film</td>\n",
       "      <td>2021.000</td>\n",
       "      <td>NaN</td>\n",
       "      <td>12.000</td>\n",
       "    </tr>\n",
       "    <tr>\n",
       "      <th>1</th>\n",
       "      <td>680224</td>\n",
       "      <td>142</td>\n",
       "      <td>6</td>\n",
       "      <td>Маша</td>\n",
       "      <td>NaT</td>\n",
       "      <td>NaN</td>\n",
       "      <td>NaN</td>\n",
       "      <td>0</td>\n",
       "      <td>age_25_34</td>\n",
       "      <td>income_40_60</td>\n",
       "      <td>Ж</td>\n",
       "      <td>1.000</td>\n",
       "      <td>film</td>\n",
       "      <td>2020.000</td>\n",
       "      <td>NaN</td>\n",
       "      <td>16.000</td>\n",
       "    </tr>\n",
       "    <tr>\n",
       "      <th>2</th>\n",
       "      <td>742507</td>\n",
       "      <td>9728</td>\n",
       "      <td>5</td>\n",
       "      <td>Гнев человеческий</td>\n",
       "      <td>NaT</td>\n",
       "      <td>NaN</td>\n",
       "      <td>NaN</td>\n",
       "      <td>0</td>\n",
       "      <td>NaN</td>\n",
       "      <td>NaN</td>\n",
       "      <td>NaN</td>\n",
       "      <td>NaN</td>\n",
       "      <td>film</td>\n",
       "      <td>2021.000</td>\n",
       "      <td>NaN</td>\n",
       "      <td>18.000</td>\n",
       "    </tr>\n",
       "    <tr>\n",
       "      <th>3</th>\n",
       "      <td>1036085</td>\n",
       "      <td>10440</td>\n",
       "      <td>1</td>\n",
       "      <td>Хрустальный</td>\n",
       "      <td>NaT</td>\n",
       "      <td>NaN</td>\n",
       "      <td>NaN</td>\n",
       "      <td>0</td>\n",
       "      <td>age_35_44</td>\n",
       "      <td>income_20_40</td>\n",
       "      <td>М</td>\n",
       "      <td>1.000</td>\n",
       "      <td>series</td>\n",
       "      <td>2021.000</td>\n",
       "      <td>NaN</td>\n",
       "      <td>18.000</td>\n",
       "    </tr>\n",
       "    <tr>\n",
       "      <th>4</th>\n",
       "      <td>861193</td>\n",
       "      <td>142</td>\n",
       "      <td>9</td>\n",
       "      <td>Маша</td>\n",
       "      <td>2021-07-16</td>\n",
       "      <td>2359.000</td>\n",
       "      <td>46.000</td>\n",
       "      <td>1</td>\n",
       "      <td>NaN</td>\n",
       "      <td>NaN</td>\n",
       "      <td>NaN</td>\n",
       "      <td>NaN</td>\n",
       "      <td>film</td>\n",
       "      <td>2020.000</td>\n",
       "      <td>NaN</td>\n",
       "      <td>16.000</td>\n",
       "    </tr>\n",
       "  </tbody>\n",
       "</table>\n",
       "</div>"
      ],
      "text/plain": [
       "   user_id item_id  rank          item_name last_watch_dt  total_dur  \\\n",
       "0   906267   13865     2           Девятаев    2021-07-18    805.000   \n",
       "1   680224     142     6               Маша           NaT        NaN   \n",
       "2   742507    9728     5  Гнев человеческий           NaT        NaN   \n",
       "3  1036085   10440     1        Хрустальный           NaT        NaN   \n",
       "4   861193     142     9               Маша    2021-07-16   2359.000   \n",
       "\n",
       "   watched_pct  target        age        income  sex  kids_flg content_type  \\\n",
       "0       13.000       1  age_45_54  income_20_40    М     0.000         film   \n",
       "1          NaN       0  age_25_34  income_40_60    Ж     1.000         film   \n",
       "2          NaN       0        NaN           NaN  NaN       NaN         film   \n",
       "3          NaN       0  age_35_44  income_20_40    М     1.000       series   \n",
       "4       46.000       1        NaN           NaN  NaN       NaN         film   \n",
       "\n",
       "   release_year  for_kids  age_rating  \n",
       "0      2021.000       NaN      12.000  \n",
       "1      2020.000       NaN      16.000  \n",
       "2      2021.000       NaN      18.000  \n",
       "3      2021.000       NaN      18.000  \n",
       "4      2020.000       NaN      16.000  "
      ]
     },
     "execution_count": 81,
     "metadata": {},
     "output_type": "execute_result"
    }
   ],
   "source": [
    "cbm_train_set.head()"
   ]
  },
  {
   "cell_type": "code",
   "execution_count": 82,
   "metadata": {},
   "outputs": [],
   "source": [
    "ID_COLS = ['user_id', 'item_id']\n",
    "TARGET = ['target']\n",
    "CATEGORICAL_COLS = ['age', 'income', 'sex', 'content_type']\n",
    "DROP_COLS = ['item_name', 'last_watch_dt', 'watched_pct', 'total_dur']"
   ]
  },
  {
   "cell_type": "code",
   "execution_count": 83,
   "metadata": {},
   "outputs": [
    {
     "name": "stdout",
     "output_type": "stream",
     "text": [
      "(281172, 9) (70356, 9)\n"
     ]
    }
   ],
   "source": [
    "X_train, y_train = cbm_train_set.drop(ID_COLS + DROP_COLS + TARGET, axis = 1), cbm_train_set[TARGET]\n",
    "X_test, y_test = cbm_test_set.drop(ID_COLS + DROP_COLS + TARGET, axis = 1), cbm_test_set[TARGET]\n",
    "print(X_train.shape, X_test.shape)"
   ]
  },
  {
   "cell_type": "code",
   "execution_count": 84,
   "metadata": {},
   "outputs": [
    {
     "data": {
      "text/html": [
       "<div>\n",
       "<style scoped>\n",
       "    .dataframe tbody tr th:only-of-type {\n",
       "        vertical-align: middle;\n",
       "    }\n",
       "\n",
       "    .dataframe tbody tr th {\n",
       "        vertical-align: top;\n",
       "    }\n",
       "\n",
       "    .dataframe thead th {\n",
       "        text-align: right;\n",
       "    }\n",
       "</style>\n",
       "<table border=\"1\" class=\"dataframe\">\n",
       "  <thead>\n",
       "    <tr style=\"text-align: right;\">\n",
       "      <th></th>\n",
       "      <th>rank</th>\n",
       "      <th>age</th>\n",
       "      <th>income</th>\n",
       "      <th>sex</th>\n",
       "      <th>kids_flg</th>\n",
       "      <th>content_type</th>\n",
       "      <th>release_year</th>\n",
       "      <th>for_kids</th>\n",
       "      <th>age_rating</th>\n",
       "    </tr>\n",
       "  </thead>\n",
       "  <tbody>\n",
       "    <tr>\n",
       "      <th>0</th>\n",
       "      <td>2</td>\n",
       "      <td>age_45_54</td>\n",
       "      <td>income_20_40</td>\n",
       "      <td>М</td>\n",
       "      <td>0.000</td>\n",
       "      <td>film</td>\n",
       "      <td>2021.000</td>\n",
       "      <td>NaN</td>\n",
       "      <td>12.000</td>\n",
       "    </tr>\n",
       "    <tr>\n",
       "      <th>1</th>\n",
       "      <td>6</td>\n",
       "      <td>age_25_34</td>\n",
       "      <td>income_40_60</td>\n",
       "      <td>Ж</td>\n",
       "      <td>1.000</td>\n",
       "      <td>film</td>\n",
       "      <td>2020.000</td>\n",
       "      <td>NaN</td>\n",
       "      <td>16.000</td>\n",
       "    </tr>\n",
       "    <tr>\n",
       "      <th>2</th>\n",
       "      <td>5</td>\n",
       "      <td>NaN</td>\n",
       "      <td>NaN</td>\n",
       "      <td>NaN</td>\n",
       "      <td>NaN</td>\n",
       "      <td>film</td>\n",
       "      <td>2021.000</td>\n",
       "      <td>NaN</td>\n",
       "      <td>18.000</td>\n",
       "    </tr>\n",
       "    <tr>\n",
       "      <th>3</th>\n",
       "      <td>1</td>\n",
       "      <td>age_35_44</td>\n",
       "      <td>income_20_40</td>\n",
       "      <td>М</td>\n",
       "      <td>1.000</td>\n",
       "      <td>series</td>\n",
       "      <td>2021.000</td>\n",
       "      <td>NaN</td>\n",
       "      <td>18.000</td>\n",
       "    </tr>\n",
       "    <tr>\n",
       "      <th>4</th>\n",
       "      <td>9</td>\n",
       "      <td>NaN</td>\n",
       "      <td>NaN</td>\n",
       "      <td>NaN</td>\n",
       "      <td>NaN</td>\n",
       "      <td>film</td>\n",
       "      <td>2020.000</td>\n",
       "      <td>NaN</td>\n",
       "      <td>16.000</td>\n",
       "    </tr>\n",
       "  </tbody>\n",
       "</table>\n",
       "</div>"
      ],
      "text/plain": [
       "   rank        age        income  sex  kids_flg content_type  release_year  \\\n",
       "0     2  age_45_54  income_20_40    М     0.000         film      2021.000   \n",
       "1     6  age_25_34  income_40_60    Ж     1.000         film      2020.000   \n",
       "2     5        NaN           NaN  NaN       NaN         film      2021.000   \n",
       "3     1  age_35_44  income_20_40    М     1.000       series      2021.000   \n",
       "4     9        NaN           NaN  NaN       NaN         film      2020.000   \n",
       "\n",
       "   for_kids  age_rating  \n",
       "0       NaN      12.000  \n",
       "1       NaN      16.000  \n",
       "2       NaN      18.000  \n",
       "3       NaN      18.000  \n",
       "4       NaN      16.000  "
      ]
     },
     "execution_count": 84,
     "metadata": {},
     "output_type": "execute_result"
    }
   ],
   "source": [
    "X_train.head()"
   ]
  },
  {
   "cell_type": "code",
   "execution_count": 85,
   "metadata": {},
   "outputs": [],
   "source": [
    "X_train = X_train.fillna(X_train.mode().iloc[0])\n",
    "X_test = X_test.fillna(X_test.mode().iloc[0])"
   ]
  },
  {
   "attachments": {},
   "cell_type": "markdown",
   "metadata": {},
   "source": [
    "## 2.5.2. Train Model"
   ]
  },
  {
   "cell_type": "code",
   "execution_count": 86,
   "metadata": {},
   "outputs": [],
   "source": [
    "cbm_classifier = CatBoostClassifier(\n",
    "    loss_function = 'CrossEntropy',\n",
    "    iterations = 5000,\n",
    "    learning_rate = .1,\n",
    "    depth = 6,\n",
    "    random_state = 1234,\n",
    "    verbose = True\n",
    ")"
   ]
  },
  {
   "cell_type": "code",
   "execution_count": 87,
   "metadata": {},
   "outputs": [
    {
     "name": "stdout",
     "output_type": "stream",
     "text": [
      "0:\tlearn: 0.6508287\ttest: 0.6512130\tbest: 0.6512130 (0)\ttotal: 130ms\tremaining: 10m 47s\n",
      "1:\tlearn: 0.6172056\ttest: 0.6179953\tbest: 0.6179953 (1)\ttotal: 186ms\tremaining: 7m 44s\n",
      "2:\tlearn: 0.5914956\ttest: 0.5925987\tbest: 0.5925987 (2)\ttotal: 221ms\tremaining: 6m 8s\n",
      "3:\tlearn: 0.5707644\ttest: 0.5722008\tbest: 0.5722008 (3)\ttotal: 280ms\tremaining: 5m 49s\n",
      "4:\tlearn: 0.5548644\ttest: 0.5565985\tbest: 0.5565985 (4)\ttotal: 324ms\tremaining: 5m 23s\n",
      "5:\tlearn: 0.5421212\ttest: 0.5441265\tbest: 0.5441265 (5)\ttotal: 414ms\tremaining: 5m 44s\n",
      "6:\tlearn: 0.5320547\ttest: 0.5343423\tbest: 0.5343423 (6)\ttotal: 483ms\tremaining: 5m 44s\n",
      "7:\tlearn: 0.5243452\ttest: 0.5268354\tbest: 0.5268354 (7)\ttotal: 527ms\tremaining: 5m 28s\n",
      "8:\tlearn: 0.5179880\ttest: 0.5206637\tbest: 0.5206637 (8)\ttotal: 570ms\tremaining: 5m 16s\n",
      "9:\tlearn: 0.5134952\ttest: 0.5163805\tbest: 0.5163805 (9)\ttotal: 605ms\tremaining: 5m 1s\n",
      "10:\tlearn: 0.5097562\ttest: 0.5128807\tbest: 0.5128807 (10)\ttotal: 645ms\tremaining: 4m 52s\n",
      "11:\tlearn: 0.5060554\ttest: 0.5093850\tbest: 0.5093850 (11)\ttotal: 688ms\tremaining: 4m 46s\n",
      "12:\tlearn: 0.5037365\ttest: 0.5072170\tbest: 0.5072170 (12)\ttotal: 729ms\tremaining: 4m 39s\n",
      "13:\tlearn: 0.5017234\ttest: 0.5053776\tbest: 0.5053776 (13)\ttotal: 769ms\tremaining: 4m 33s\n",
      "14:\tlearn: 0.4998884\ttest: 0.5036463\tbest: 0.5036463 (14)\ttotal: 811ms\tremaining: 4m 29s\n",
      "15:\tlearn: 0.4986691\ttest: 0.5025534\tbest: 0.5025534 (15)\ttotal: 840ms\tremaining: 4m 21s\n",
      "16:\tlearn: 0.4973594\ttest: 0.5013672\tbest: 0.5013672 (16)\ttotal: 882ms\tremaining: 4m 18s\n",
      "17:\tlearn: 0.4965207\ttest: 0.5006142\tbest: 0.5006142 (17)\ttotal: 924ms\tremaining: 4m 15s\n",
      "18:\tlearn: 0.4954705\ttest: 0.4996511\tbest: 0.4996511 (18)\ttotal: 962ms\tremaining: 4m 12s\n",
      "19:\tlearn: 0.4946765\ttest: 0.4989438\tbest: 0.4989438 (19)\ttotal: 1.02s\tremaining: 4m 13s\n",
      "20:\tlearn: 0.4941028\ttest: 0.4984763\tbest: 0.4984763 (20)\ttotal: 1.08s\tremaining: 4m 15s\n",
      "21:\tlearn: 0.4937070\ttest: 0.4981839\tbest: 0.4981839 (21)\ttotal: 1.12s\tremaining: 4m 14s\n",
      "22:\tlearn: 0.4934387\ttest: 0.4979792\tbest: 0.4979792 (22)\ttotal: 1.17s\tremaining: 4m 13s\n",
      "23:\tlearn: 0.4930413\ttest: 0.4976558\tbest: 0.4976558 (23)\ttotal: 1.21s\tremaining: 4m 10s\n",
      "24:\tlearn: 0.4928415\ttest: 0.4975189\tbest: 0.4975189 (24)\ttotal: 1.25s\tremaining: 4m 8s\n",
      "25:\tlearn: 0.4925056\ttest: 0.4972465\tbest: 0.4972465 (25)\ttotal: 1.28s\tremaining: 4m 5s\n",
      "26:\tlearn: 0.4922103\ttest: 0.4970536\tbest: 0.4970536 (26)\ttotal: 1.33s\tremaining: 4m 4s\n",
      "27:\tlearn: 0.4920244\ttest: 0.4969281\tbest: 0.4969281 (27)\ttotal: 1.37s\tremaining: 4m 2s\n",
      "28:\tlearn: 0.4917224\ttest: 0.4966745\tbest: 0.4966745 (28)\ttotal: 1.41s\tremaining: 4m 1s\n",
      "29:\tlearn: 0.4915774\ttest: 0.4965752\tbest: 0.4965752 (29)\ttotal: 1.46s\tremaining: 4m 2s\n",
      "30:\tlearn: 0.4914152\ttest: 0.4964721\tbest: 0.4964721 (30)\ttotal: 1.5s\tremaining: 4m\n",
      "31:\tlearn: 0.4913881\ttest: 0.4964585\tbest: 0.4964585 (31)\ttotal: 1.52s\tremaining: 3m 56s\n",
      "32:\tlearn: 0.4912884\ttest: 0.4964042\tbest: 0.4964042 (32)\ttotal: 1.56s\tremaining: 3m 54s\n",
      "33:\tlearn: 0.4912646\ttest: 0.4963917\tbest: 0.4963917 (33)\ttotal: 1.58s\tremaining: 3m 50s\n",
      "34:\tlearn: 0.4912392\ttest: 0.4963857\tbest: 0.4963857 (34)\ttotal: 1.61s\tremaining: 3m 48s\n",
      "35:\tlearn: 0.4911762\ttest: 0.4963467\tbest: 0.4963467 (35)\ttotal: 1.64s\tremaining: 3m 46s\n",
      "36:\tlearn: 0.4910772\ttest: 0.4962774\tbest: 0.4962774 (36)\ttotal: 1.67s\tremaining: 3m 43s\n",
      "37:\tlearn: 0.4909855\ttest: 0.4962387\tbest: 0.4962387 (37)\ttotal: 1.71s\tremaining: 3m 43s\n",
      "38:\tlearn: 0.4908181\ttest: 0.4960910\tbest: 0.4960910 (38)\ttotal: 1.75s\tremaining: 3m 42s\n",
      "39:\tlearn: 0.4907306\ttest: 0.4960627\tbest: 0.4960627 (39)\ttotal: 1.8s\tremaining: 3m 42s\n",
      "40:\tlearn: 0.4906524\ttest: 0.4960172\tbest: 0.4960172 (40)\ttotal: 1.84s\tremaining: 3m 42s\n",
      "41:\tlearn: 0.4906156\ttest: 0.4960089\tbest: 0.4960089 (41)\ttotal: 1.88s\tremaining: 3m 41s\n",
      "42:\tlearn: 0.4904905\ttest: 0.4959268\tbest: 0.4959268 (42)\ttotal: 1.92s\tremaining: 3m 41s\n",
      "43:\tlearn: 0.4903909\ttest: 0.4958454\tbest: 0.4958454 (43)\ttotal: 1.96s\tremaining: 3m 40s\n",
      "44:\tlearn: 0.4903291\ttest: 0.4958156\tbest: 0.4958156 (44)\ttotal: 2s\tremaining: 3m 40s\n",
      "45:\tlearn: 0.4902454\ttest: 0.4957533\tbest: 0.4957533 (45)\ttotal: 2.04s\tremaining: 3m 39s\n",
      "46:\tlearn: 0.4901987\ttest: 0.4957312\tbest: 0.4957312 (46)\ttotal: 2.1s\tremaining: 3m 40s\n",
      "47:\tlearn: 0.4901247\ttest: 0.4956787\tbest: 0.4956787 (47)\ttotal: 2.13s\tremaining: 3m 40s\n",
      "48:\tlearn: 0.4901002\ttest: 0.4956738\tbest: 0.4956738 (48)\ttotal: 2.17s\tremaining: 3m 39s\n",
      "49:\tlearn: 0.4900730\ttest: 0.4956586\tbest: 0.4956586 (49)\ttotal: 2.21s\tremaining: 3m 38s\n",
      "50:\tlearn: 0.4900447\ttest: 0.4956501\tbest: 0.4956501 (50)\ttotal: 2.25s\tremaining: 3m 38s\n",
      "51:\tlearn: 0.4900183\ttest: 0.4956561\tbest: 0.4956501 (50)\ttotal: 2.29s\tremaining: 3m 37s\n",
      "52:\tlearn: 0.4900042\ttest: 0.4956599\tbest: 0.4956501 (50)\ttotal: 2.33s\tremaining: 3m 37s\n",
      "53:\tlearn: 0.4899220\ttest: 0.4956004\tbest: 0.4956004 (53)\ttotal: 2.37s\tremaining: 3m 37s\n",
      "54:\tlearn: 0.4898819\ttest: 0.4955830\tbest: 0.4955830 (54)\ttotal: 2.41s\tremaining: 3m 36s\n",
      "55:\tlearn: 0.4898688\ttest: 0.4955765\tbest: 0.4955765 (55)\ttotal: 2.45s\tremaining: 3m 36s\n",
      "56:\tlearn: 0.4898596\ttest: 0.4955747\tbest: 0.4955747 (56)\ttotal: 2.48s\tremaining: 3m 35s\n",
      "57:\tlearn: 0.4898526\ttest: 0.4955777\tbest: 0.4955747 (56)\ttotal: 2.52s\tremaining: 3m 34s\n",
      "58:\tlearn: 0.4898345\ttest: 0.4955764\tbest: 0.4955747 (56)\ttotal: 2.56s\tremaining: 3m 34s\n",
      "59:\tlearn: 0.4898089\ttest: 0.4955541\tbest: 0.4955541 (59)\ttotal: 2.59s\tremaining: 3m 33s\n",
      "60:\tlearn: 0.4897561\ttest: 0.4955099\tbest: 0.4955099 (60)\ttotal: 2.63s\tremaining: 3m 33s\n",
      "61:\tlearn: 0.4897505\ttest: 0.4955091\tbest: 0.4955091 (61)\ttotal: 2.66s\tremaining: 3m 32s\n",
      "62:\tlearn: 0.4897436\ttest: 0.4955083\tbest: 0.4955083 (62)\ttotal: 2.71s\tremaining: 3m 32s\n",
      "63:\tlearn: 0.4897228\ttest: 0.4955030\tbest: 0.4955030 (63)\ttotal: 2.74s\tremaining: 3m 31s\n",
      "64:\tlearn: 0.4897112\ttest: 0.4955001\tbest: 0.4955001 (64)\ttotal: 2.78s\tremaining: 3m 30s\n",
      "65:\tlearn: 0.4896605\ttest: 0.4954650\tbest: 0.4954650 (65)\ttotal: 2.81s\tremaining: 3m 30s\n",
      "66:\tlearn: 0.4896075\ttest: 0.4954185\tbest: 0.4954185 (66)\ttotal: 2.86s\tremaining: 3m 30s\n",
      "67:\tlearn: 0.4896041\ttest: 0.4954192\tbest: 0.4954185 (66)\ttotal: 2.89s\tremaining: 3m 29s\n",
      "68:\tlearn: 0.4895957\ttest: 0.4954176\tbest: 0.4954176 (68)\ttotal: 2.92s\tremaining: 3m 28s\n",
      "69:\tlearn: 0.4895911\ttest: 0.4954189\tbest: 0.4954176 (68)\ttotal: 2.95s\tremaining: 3m 27s\n",
      "70:\tlearn: 0.4895798\ttest: 0.4954172\tbest: 0.4954172 (70)\ttotal: 2.99s\tremaining: 3m 27s\n",
      "71:\tlearn: 0.4895473\ttest: 0.4954008\tbest: 0.4954008 (71)\ttotal: 3.03s\tremaining: 3m 27s\n",
      "72:\tlearn: 0.4895251\ttest: 0.4954032\tbest: 0.4954008 (71)\ttotal: 3.07s\tremaining: 3m 27s\n",
      "73:\tlearn: 0.4895214\ttest: 0.4954022\tbest: 0.4954008 (71)\ttotal: 3.11s\tremaining: 3m 27s\n",
      "74:\tlearn: 0.4894869\ttest: 0.4953856\tbest: 0.4953856 (74)\ttotal: 3.16s\tremaining: 3m 27s\n",
      "75:\tlearn: 0.4894813\ttest: 0.4953841\tbest: 0.4953841 (75)\ttotal: 3.2s\tremaining: 3m 27s\n",
      "76:\tlearn: 0.4894702\ttest: 0.4953806\tbest: 0.4953806 (76)\ttotal: 3.23s\tremaining: 3m 26s\n",
      "77:\tlearn: 0.4894561\ttest: 0.4953792\tbest: 0.4953792 (77)\ttotal: 3.27s\tremaining: 3m 26s\n",
      "78:\tlearn: 0.4894436\ttest: 0.4953807\tbest: 0.4953792 (77)\ttotal: 3.31s\tremaining: 3m 26s\n",
      "79:\tlearn: 0.4894361\ttest: 0.4953828\tbest: 0.4953792 (77)\ttotal: 3.35s\tremaining: 3m 25s\n",
      "80:\tlearn: 0.4894183\ttest: 0.4953808\tbest: 0.4953792 (77)\ttotal: 3.38s\tremaining: 3m 25s\n",
      "81:\tlearn: 0.4893937\ttest: 0.4953604\tbest: 0.4953604 (81)\ttotal: 3.42s\tremaining: 3m 25s\n",
      "82:\tlearn: 0.4893934\ttest: 0.4953614\tbest: 0.4953604 (81)\ttotal: 3.44s\tremaining: 3m 23s\n",
      "83:\tlearn: 0.4893833\ttest: 0.4953565\tbest: 0.4953565 (83)\ttotal: 3.48s\tremaining: 3m 23s\n",
      "84:\tlearn: 0.4893541\ttest: 0.4953523\tbest: 0.4953523 (84)\ttotal: 3.51s\tremaining: 3m 23s\n",
      "85:\tlearn: 0.4893511\ttest: 0.4953517\tbest: 0.4953517 (85)\ttotal: 3.54s\tremaining: 3m 22s\n",
      "86:\tlearn: 0.4893480\ttest: 0.4953520\tbest: 0.4953517 (85)\ttotal: 3.58s\tremaining: 3m 22s\n",
      "87:\tlearn: 0.4893440\ttest: 0.4953534\tbest: 0.4953517 (85)\ttotal: 3.62s\tremaining: 3m 22s\n",
      "88:\tlearn: 0.4893376\ttest: 0.4953581\tbest: 0.4953517 (85)\ttotal: 3.66s\tremaining: 3m 22s\n",
      "89:\tlearn: 0.4893367\ttest: 0.4953592\tbest: 0.4953517 (85)\ttotal: 3.68s\tremaining: 3m 20s\n",
      "90:\tlearn: 0.4892854\ttest: 0.4953135\tbest: 0.4953135 (90)\ttotal: 3.72s\tremaining: 3m 20s\n",
      "91:\tlearn: 0.4892717\ttest: 0.4953149\tbest: 0.4953135 (90)\ttotal: 3.76s\tremaining: 3m 20s\n",
      "92:\tlearn: 0.4892717\ttest: 0.4953148\tbest: 0.4953135 (90)\ttotal: 3.77s\tremaining: 3m 19s\n",
      "93:\tlearn: 0.4892667\ttest: 0.4953170\tbest: 0.4953135 (90)\ttotal: 3.82s\tremaining: 3m 19s\n",
      "94:\tlearn: 0.4892379\ttest: 0.4953160\tbest: 0.4953135 (90)\ttotal: 3.85s\tremaining: 3m 19s\n",
      "95:\tlearn: 0.4892236\ttest: 0.4953212\tbest: 0.4953135 (90)\ttotal: 3.89s\tremaining: 3m 18s\n",
      "96:\tlearn: 0.4892207\ttest: 0.4953229\tbest: 0.4953135 (90)\ttotal: 3.92s\tremaining: 3m 18s\n",
      "97:\tlearn: 0.4892168\ttest: 0.4953233\tbest: 0.4953135 (90)\ttotal: 3.96s\tremaining: 3m 18s\n",
      "98:\tlearn: 0.4892131\ttest: 0.4953225\tbest: 0.4953135 (90)\ttotal: 3.99s\tremaining: 3m 17s\n",
      "99:\tlearn: 0.4892085\ttest: 0.4953238\tbest: 0.4953135 (90)\ttotal: 4.03s\tremaining: 3m 17s\n",
      "100:\tlearn: 0.4891808\ttest: 0.4953110\tbest: 0.4953110 (100)\ttotal: 4.07s\tremaining: 3m 17s\n",
      "101:\tlearn: 0.4891784\ttest: 0.4953125\tbest: 0.4953110 (100)\ttotal: 4.11s\tremaining: 3m 17s\n",
      "102:\tlearn: 0.4891429\ttest: 0.4952849\tbest: 0.4952849 (102)\ttotal: 4.15s\tremaining: 3m 17s\n",
      "103:\tlearn: 0.4891285\ttest: 0.4952773\tbest: 0.4952773 (103)\ttotal: 4.19s\tremaining: 3m 17s\n",
      "104:\tlearn: 0.4891259\ttest: 0.4952778\tbest: 0.4952773 (103)\ttotal: 4.23s\tremaining: 3m 17s\n",
      "105:\tlearn: 0.4891230\ttest: 0.4952777\tbest: 0.4952773 (103)\ttotal: 4.27s\tremaining: 3m 17s\n",
      "106:\tlearn: 0.4891157\ttest: 0.4952737\tbest: 0.4952737 (106)\ttotal: 4.3s\tremaining: 3m 16s\n",
      "107:\tlearn: 0.4890863\ttest: 0.4952618\tbest: 0.4952618 (107)\ttotal: 4.35s\tremaining: 3m 17s\n",
      "108:\tlearn: 0.4890571\ttest: 0.4952647\tbest: 0.4952618 (107)\ttotal: 4.39s\tremaining: 3m 16s\n",
      "109:\tlearn: 0.4890287\ttest: 0.4952604\tbest: 0.4952604 (109)\ttotal: 4.43s\tremaining: 3m 16s\n",
      "110:\tlearn: 0.4890263\ttest: 0.4952599\tbest: 0.4952599 (110)\ttotal: 4.47s\tremaining: 3m 16s\n",
      "111:\tlearn: 0.4890161\ttest: 0.4952593\tbest: 0.4952593 (111)\ttotal: 4.51s\tremaining: 3m 16s\n",
      "112:\tlearn: 0.4890073\ttest: 0.4952522\tbest: 0.4952522 (112)\ttotal: 4.54s\tremaining: 3m 16s\n",
      "113:\tlearn: 0.4889982\ttest: 0.4952522\tbest: 0.4952522 (113)\ttotal: 4.57s\tremaining: 3m 15s\n",
      "114:\tlearn: 0.4889966\ttest: 0.4952526\tbest: 0.4952522 (113)\ttotal: 4.61s\tremaining: 3m 15s\n",
      "115:\tlearn: 0.4889865\ttest: 0.4952455\tbest: 0.4952455 (115)\ttotal: 4.65s\tremaining: 3m 15s\n",
      "116:\tlearn: 0.4889816\ttest: 0.4952428\tbest: 0.4952428 (116)\ttotal: 4.68s\tremaining: 3m 15s\n",
      "117:\tlearn: 0.4889720\ttest: 0.4952437\tbest: 0.4952428 (116)\ttotal: 4.72s\tremaining: 3m 15s\n",
      "118:\tlearn: 0.4889469\ttest: 0.4952469\tbest: 0.4952428 (116)\ttotal: 4.76s\tremaining: 3m 15s\n",
      "119:\tlearn: 0.4888876\ttest: 0.4952257\tbest: 0.4952257 (119)\ttotal: 4.8s\tremaining: 3m 15s\n",
      "120:\tlearn: 0.4888779\ttest: 0.4952253\tbest: 0.4952253 (120)\ttotal: 4.84s\tremaining: 3m 15s\n",
      "121:\tlearn: 0.4888700\ttest: 0.4952165\tbest: 0.4952165 (121)\ttotal: 4.88s\tremaining: 3m 15s\n",
      "122:\tlearn: 0.4888194\ttest: 0.4951703\tbest: 0.4951703 (122)\ttotal: 4.92s\tremaining: 3m 14s\n",
      "123:\tlearn: 0.4888053\ttest: 0.4951692\tbest: 0.4951692 (123)\ttotal: 4.95s\tremaining: 3m 14s\n",
      "124:\tlearn: 0.4887879\ttest: 0.4951662\tbest: 0.4951662 (124)\ttotal: 4.99s\tremaining: 3m 14s\n",
      "125:\tlearn: 0.4887581\ttest: 0.4951614\tbest: 0.4951614 (125)\ttotal: 5.03s\tremaining: 3m 14s\n",
      "126:\tlearn: 0.4887389\ttest: 0.4951552\tbest: 0.4951552 (126)\ttotal: 5.07s\tremaining: 3m 14s\n",
      "127:\tlearn: 0.4887149\ttest: 0.4951564\tbest: 0.4951552 (126)\ttotal: 5.11s\tremaining: 3m 14s\n",
      "128:\tlearn: 0.4886864\ttest: 0.4951493\tbest: 0.4951493 (128)\ttotal: 5.15s\tremaining: 3m 14s\n",
      "129:\tlearn: 0.4886764\ttest: 0.4951517\tbest: 0.4951493 (128)\ttotal: 5.19s\tremaining: 3m 14s\n",
      "130:\tlearn: 0.4886691\ttest: 0.4951490\tbest: 0.4951490 (130)\ttotal: 5.23s\tremaining: 3m 14s\n",
      "131:\tlearn: 0.4886353\ttest: 0.4951165\tbest: 0.4951165 (131)\ttotal: 5.26s\tremaining: 3m 14s\n",
      "132:\tlearn: 0.4886265\ttest: 0.4951178\tbest: 0.4951165 (131)\ttotal: 5.31s\tremaining: 3m 14s\n",
      "133:\tlearn: 0.4886247\ttest: 0.4951179\tbest: 0.4951165 (131)\ttotal: 5.34s\tremaining: 3m 14s\n",
      "134:\tlearn: 0.4886204\ttest: 0.4951160\tbest: 0.4951160 (134)\ttotal: 5.38s\tremaining: 3m 14s\n",
      "135:\tlearn: 0.4886130\ttest: 0.4951162\tbest: 0.4951160 (134)\ttotal: 5.42s\tremaining: 3m 13s\n",
      "136:\tlearn: 0.4885778\ttest: 0.4950895\tbest: 0.4950895 (136)\ttotal: 5.46s\tremaining: 3m 13s\n",
      "137:\tlearn: 0.4885442\ttest: 0.4950733\tbest: 0.4950733 (137)\ttotal: 5.5s\tremaining: 3m 13s\n",
      "138:\tlearn: 0.4884779\ttest: 0.4950320\tbest: 0.4950320 (138)\ttotal: 5.55s\tremaining: 3m 13s\n",
      "139:\tlearn: 0.4884721\ttest: 0.4950321\tbest: 0.4950320 (138)\ttotal: 5.58s\tremaining: 3m 13s\n",
      "140:\tlearn: 0.4884636\ttest: 0.4950298\tbest: 0.4950298 (140)\ttotal: 5.62s\tremaining: 3m 13s\n",
      "141:\tlearn: 0.4884594\ttest: 0.4950280\tbest: 0.4950280 (141)\ttotal: 5.65s\tremaining: 3m 13s\n",
      "142:\tlearn: 0.4884151\ttest: 0.4949823\tbest: 0.4949823 (142)\ttotal: 5.7s\tremaining: 3m 13s\n",
      "143:\tlearn: 0.4884049\ttest: 0.4949801\tbest: 0.4949801 (143)\ttotal: 5.73s\tremaining: 3m 13s\n",
      "144:\tlearn: 0.4883829\ttest: 0.4949858\tbest: 0.4949801 (143)\ttotal: 5.77s\tremaining: 3m 13s\n",
      "145:\tlearn: 0.4883352\ttest: 0.4949619\tbest: 0.4949619 (145)\ttotal: 5.81s\tremaining: 3m 13s\n",
      "146:\tlearn: 0.4883269\ttest: 0.4949626\tbest: 0.4949619 (145)\ttotal: 5.85s\tremaining: 3m 13s\n",
      "147:\tlearn: 0.4883141\ttest: 0.4949649\tbest: 0.4949619 (145)\ttotal: 5.88s\tremaining: 3m 12s\n",
      "148:\tlearn: 0.4882951\ttest: 0.4949624\tbest: 0.4949619 (145)\ttotal: 5.93s\tremaining: 3m 13s\n",
      "149:\tlearn: 0.4882548\ttest: 0.4949377\tbest: 0.4949377 (149)\ttotal: 5.97s\tremaining: 3m 13s\n",
      "150:\tlearn: 0.4882189\ttest: 0.4949207\tbest: 0.4949207 (150)\ttotal: 6.02s\tremaining: 3m 13s\n",
      "151:\tlearn: 0.4882135\ttest: 0.4949228\tbest: 0.4949207 (150)\ttotal: 6.05s\tremaining: 3m 13s\n",
      "152:\tlearn: 0.4882085\ttest: 0.4949236\tbest: 0.4949207 (150)\ttotal: 6.08s\tremaining: 3m 12s\n",
      "153:\tlearn: 0.4881782\ttest: 0.4949108\tbest: 0.4949108 (153)\ttotal: 6.13s\tremaining: 3m 12s\n",
      "154:\tlearn: 0.4881710\ttest: 0.4949083\tbest: 0.4949083 (154)\ttotal: 6.16s\tremaining: 3m 12s\n",
      "155:\tlearn: 0.4881662\ttest: 0.4949097\tbest: 0.4949083 (154)\ttotal: 6.2s\tremaining: 3m 12s\n",
      "156:\tlearn: 0.4881621\ttest: 0.4949074\tbest: 0.4949074 (156)\ttotal: 6.24s\tremaining: 3m 12s\n",
      "157:\tlearn: 0.4881507\ttest: 0.4949040\tbest: 0.4949040 (157)\ttotal: 6.27s\tremaining: 3m 12s\n",
      "158:\tlearn: 0.4881440\ttest: 0.4949014\tbest: 0.4949014 (158)\ttotal: 6.31s\tremaining: 3m 12s\n",
      "159:\tlearn: 0.4881322\ttest: 0.4948999\tbest: 0.4948999 (159)\ttotal: 6.35s\tremaining: 3m 12s\n",
      "160:\tlearn: 0.4881210\ttest: 0.4948991\tbest: 0.4948991 (160)\ttotal: 6.39s\tremaining: 3m 11s\n",
      "161:\tlearn: 0.4880789\ttest: 0.4948714\tbest: 0.4948714 (161)\ttotal: 6.43s\tremaining: 3m 11s\n",
      "162:\tlearn: 0.4880696\ttest: 0.4948670\tbest: 0.4948670 (162)\ttotal: 6.47s\tremaining: 3m 12s\n",
      "163:\tlearn: 0.4880347\ttest: 0.4948438\tbest: 0.4948438 (163)\ttotal: 6.52s\tremaining: 3m 12s\n",
      "164:\tlearn: 0.4880118\ttest: 0.4948355\tbest: 0.4948355 (164)\ttotal: 6.57s\tremaining: 3m 12s\n",
      "165:\tlearn: 0.4879963\ttest: 0.4948317\tbest: 0.4948317 (165)\ttotal: 6.61s\tremaining: 3m 12s\n",
      "166:\tlearn: 0.4879793\ttest: 0.4948259\tbest: 0.4948259 (166)\ttotal: 6.65s\tremaining: 3m 12s\n",
      "167:\tlearn: 0.4879597\ttest: 0.4948192\tbest: 0.4948192 (167)\ttotal: 6.7s\tremaining: 3m 12s\n",
      "168:\tlearn: 0.4879544\ttest: 0.4948172\tbest: 0.4948172 (168)\ttotal: 6.73s\tremaining: 3m 12s\n",
      "169:\tlearn: 0.4879482\ttest: 0.4948168\tbest: 0.4948168 (169)\ttotal: 6.77s\tremaining: 3m 12s\n",
      "170:\tlearn: 0.4879376\ttest: 0.4948166\tbest: 0.4948166 (170)\ttotal: 6.81s\tremaining: 3m 12s\n",
      "171:\tlearn: 0.4879293\ttest: 0.4948164\tbest: 0.4948164 (171)\ttotal: 6.85s\tremaining: 3m 12s\n",
      "172:\tlearn: 0.4879204\ttest: 0.4948131\tbest: 0.4948131 (172)\ttotal: 6.89s\tremaining: 3m 12s\n",
      "173:\tlearn: 0.4878834\ttest: 0.4947791\tbest: 0.4947791 (173)\ttotal: 6.93s\tremaining: 3m 12s\n",
      "174:\tlearn: 0.4878444\ttest: 0.4947601\tbest: 0.4947601 (174)\ttotal: 6.96s\tremaining: 3m 12s\n",
      "175:\tlearn: 0.4878349\ttest: 0.4947611\tbest: 0.4947601 (174)\ttotal: 7.02s\tremaining: 3m 12s\n",
      "176:\tlearn: 0.4878262\ttest: 0.4947591\tbest: 0.4947591 (176)\ttotal: 7.07s\tremaining: 3m 12s\n",
      "177:\tlearn: 0.4878210\ttest: 0.4947619\tbest: 0.4947591 (176)\ttotal: 7.11s\tremaining: 3m 12s\n",
      "178:\tlearn: 0.4878172\ttest: 0.4947599\tbest: 0.4947591 (176)\ttotal: 7.15s\tremaining: 3m 12s\n",
      "179:\tlearn: 0.4877794\ttest: 0.4947268\tbest: 0.4947268 (179)\ttotal: 7.2s\tremaining: 3m 12s\n",
      "180:\tlearn: 0.4877744\ttest: 0.4947314\tbest: 0.4947268 (179)\ttotal: 7.24s\tremaining: 3m 12s\n",
      "181:\tlearn: 0.4877645\ttest: 0.4947288\tbest: 0.4947268 (179)\ttotal: 7.28s\tremaining: 3m 12s\n",
      "182:\tlearn: 0.4877515\ttest: 0.4947275\tbest: 0.4947268 (179)\ttotal: 7.32s\tremaining: 3m 12s\n",
      "183:\tlearn: 0.4877230\ttest: 0.4947122\tbest: 0.4947122 (183)\ttotal: 7.37s\tremaining: 3m 12s\n",
      "184:\tlearn: 0.4877111\ttest: 0.4947060\tbest: 0.4947060 (184)\ttotal: 7.41s\tremaining: 3m 12s\n",
      "185:\tlearn: 0.4877017\ttest: 0.4947086\tbest: 0.4947060 (184)\ttotal: 7.46s\tremaining: 3m 12s\n",
      "186:\tlearn: 0.4876973\ttest: 0.4947072\tbest: 0.4947060 (184)\ttotal: 7.5s\tremaining: 3m 12s\n",
      "187:\tlearn: 0.4876866\ttest: 0.4947183\tbest: 0.4947060 (184)\ttotal: 7.54s\tremaining: 3m 12s\n",
      "188:\tlearn: 0.4876782\ttest: 0.4947171\tbest: 0.4947060 (184)\ttotal: 7.57s\tremaining: 3m 12s\n",
      "189:\tlearn: 0.4876578\ttest: 0.4947136\tbest: 0.4947060 (184)\ttotal: 7.61s\tremaining: 3m 12s\n",
      "190:\tlearn: 0.4876496\ttest: 0.4947127\tbest: 0.4947060 (184)\ttotal: 7.66s\tremaining: 3m 12s\n",
      "191:\tlearn: 0.4876270\ttest: 0.4947103\tbest: 0.4947060 (184)\ttotal: 7.69s\tremaining: 3m 12s\n",
      "192:\tlearn: 0.4876234\ttest: 0.4947081\tbest: 0.4947060 (184)\ttotal: 7.73s\tremaining: 3m 12s\n",
      "193:\tlearn: 0.4875918\ttest: 0.4946885\tbest: 0.4946885 (193)\ttotal: 7.77s\tremaining: 3m 12s\n",
      "194:\tlearn: 0.4875906\ttest: 0.4946884\tbest: 0.4946884 (194)\ttotal: 7.8s\tremaining: 3m 12s\n",
      "195:\tlearn: 0.4875851\ttest: 0.4946863\tbest: 0.4946863 (195)\ttotal: 7.85s\tremaining: 3m 12s\n",
      "196:\tlearn: 0.4875679\ttest: 0.4946860\tbest: 0.4946860 (196)\ttotal: 7.89s\tremaining: 3m 12s\n",
      "197:\tlearn: 0.4875660\ttest: 0.4946863\tbest: 0.4946860 (196)\ttotal: 7.92s\tremaining: 3m 12s\n",
      "198:\tlearn: 0.4875564\ttest: 0.4946892\tbest: 0.4946860 (196)\ttotal: 7.96s\tremaining: 3m 12s\n",
      "199:\tlearn: 0.4875541\ttest: 0.4946897\tbest: 0.4946860 (196)\ttotal: 8.01s\tremaining: 3m 12s\n",
      "200:\tlearn: 0.4875509\ttest: 0.4946906\tbest: 0.4946860 (196)\ttotal: 8.04s\tremaining: 3m 11s\n",
      "201:\tlearn: 0.4875341\ttest: 0.4946902\tbest: 0.4946860 (196)\ttotal: 8.07s\tremaining: 3m 11s\n",
      "202:\tlearn: 0.4875275\ttest: 0.4946929\tbest: 0.4946860 (196)\ttotal: 8.11s\tremaining: 3m 11s\n",
      "203:\tlearn: 0.4875257\ttest: 0.4946913\tbest: 0.4946860 (196)\ttotal: 8.14s\tremaining: 3m 11s\n",
      "204:\tlearn: 0.4874941\ttest: 0.4946957\tbest: 0.4946860 (196)\ttotal: 8.18s\tremaining: 3m 11s\n",
      "205:\tlearn: 0.4874892\ttest: 0.4946935\tbest: 0.4946860 (196)\ttotal: 8.22s\tremaining: 3m 11s\n",
      "206:\tlearn: 0.4874883\ttest: 0.4946934\tbest: 0.4946860 (196)\ttotal: 8.26s\tremaining: 3m 11s\n",
      "207:\tlearn: 0.4874833\ttest: 0.4946947\tbest: 0.4946860 (196)\ttotal: 8.3s\tremaining: 3m 11s\n",
      "208:\tlearn: 0.4874762\ttest: 0.4947000\tbest: 0.4946860 (196)\ttotal: 8.34s\tremaining: 3m 11s\n",
      "209:\tlearn: 0.4874632\ttest: 0.4946994\tbest: 0.4946860 (196)\ttotal: 8.38s\tremaining: 3m 11s\n",
      "210:\tlearn: 0.4874554\ttest: 0.4946976\tbest: 0.4946860 (196)\ttotal: 8.42s\tremaining: 3m 11s\n",
      "211:\tlearn: 0.4874483\ttest: 0.4946955\tbest: 0.4946860 (196)\ttotal: 8.45s\tremaining: 3m 10s\n",
      "212:\tlearn: 0.4874274\ttest: 0.4946980\tbest: 0.4946860 (196)\ttotal: 8.49s\tremaining: 3m 10s\n",
      "213:\tlearn: 0.4874079\ttest: 0.4946805\tbest: 0.4946805 (213)\ttotal: 8.53s\tremaining: 3m 10s\n",
      "214:\tlearn: 0.4873989\ttest: 0.4946818\tbest: 0.4946805 (213)\ttotal: 8.57s\tremaining: 3m 10s\n",
      "215:\tlearn: 0.4873895\ttest: 0.4946822\tbest: 0.4946805 (213)\ttotal: 8.61s\tremaining: 3m 10s\n",
      "216:\tlearn: 0.4873884\ttest: 0.4946820\tbest: 0.4946805 (213)\ttotal: 8.64s\tremaining: 3m 10s\n",
      "217:\tlearn: 0.4873846\ttest: 0.4946830\tbest: 0.4946805 (213)\ttotal: 8.68s\tremaining: 3m 10s\n",
      "218:\tlearn: 0.4873798\ttest: 0.4946835\tbest: 0.4946805 (213)\ttotal: 8.71s\tremaining: 3m 10s\n",
      "219:\tlearn: 0.4873481\ttest: 0.4946451\tbest: 0.4946451 (219)\ttotal: 8.75s\tremaining: 3m 10s\n",
      "220:\tlearn: 0.4873417\ttest: 0.4946415\tbest: 0.4946415 (220)\ttotal: 8.79s\tremaining: 3m 10s\n",
      "221:\tlearn: 0.4873384\ttest: 0.4946410\tbest: 0.4946410 (221)\ttotal: 8.83s\tremaining: 3m 10s\n",
      "222:\tlearn: 0.4873238\ttest: 0.4946278\tbest: 0.4946278 (222)\ttotal: 8.87s\tremaining: 3m 10s\n",
      "223:\tlearn: 0.4873224\ttest: 0.4946269\tbest: 0.4946269 (223)\ttotal: 8.9s\tremaining: 3m 9s\n",
      "224:\tlearn: 0.4873198\ttest: 0.4946277\tbest: 0.4946269 (223)\ttotal: 8.94s\tremaining: 3m 9s\n",
      "225:\tlearn: 0.4873146\ttest: 0.4946250\tbest: 0.4946250 (225)\ttotal: 8.97s\tremaining: 3m 9s\n",
      "226:\tlearn: 0.4872937\ttest: 0.4946175\tbest: 0.4946175 (226)\ttotal: 9.02s\tremaining: 3m 9s\n",
      "227:\tlearn: 0.4872895\ttest: 0.4946196\tbest: 0.4946175 (226)\ttotal: 9.06s\tremaining: 3m 9s\n",
      "228:\tlearn: 0.4872753\ttest: 0.4946185\tbest: 0.4946175 (226)\ttotal: 9.1s\tremaining: 3m 9s\n",
      "229:\tlearn: 0.4872673\ttest: 0.4946194\tbest: 0.4946175 (226)\ttotal: 9.15s\tremaining: 3m 9s\n",
      "230:\tlearn: 0.4872630\ttest: 0.4946193\tbest: 0.4946175 (226)\ttotal: 9.19s\tremaining: 3m 9s\n",
      "231:\tlearn: 0.4872611\ttest: 0.4946191\tbest: 0.4946175 (226)\ttotal: 9.23s\tremaining: 3m 9s\n",
      "232:\tlearn: 0.4872564\ttest: 0.4946186\tbest: 0.4946175 (226)\ttotal: 9.26s\tremaining: 3m 9s\n",
      "233:\tlearn: 0.4872529\ttest: 0.4946192\tbest: 0.4946175 (226)\ttotal: 9.3s\tremaining: 3m 9s\n",
      "234:\tlearn: 0.4872440\ttest: 0.4946090\tbest: 0.4946090 (234)\ttotal: 9.34s\tremaining: 3m 9s\n",
      "235:\tlearn: 0.4872231\ttest: 0.4946021\tbest: 0.4946021 (235)\ttotal: 9.38s\tremaining: 3m 9s\n",
      "236:\tlearn: 0.4872105\ttest: 0.4946036\tbest: 0.4946021 (235)\ttotal: 9.41s\tremaining: 3m 9s\n",
      "237:\tlearn: 0.4872072\ttest: 0.4946012\tbest: 0.4946012 (237)\ttotal: 9.46s\tremaining: 3m 9s\n",
      "238:\tlearn: 0.4872024\ttest: 0.4945986\tbest: 0.4945986 (238)\ttotal: 9.51s\tremaining: 3m 9s\n",
      "239:\tlearn: 0.4871960\ttest: 0.4945986\tbest: 0.4945986 (238)\ttotal: 9.55s\tremaining: 3m 9s\n",
      "240:\tlearn: 0.4871891\ttest: 0.4945978\tbest: 0.4945978 (240)\ttotal: 9.6s\tremaining: 3m 9s\n",
      "241:\tlearn: 0.4871817\ttest: 0.4945990\tbest: 0.4945978 (240)\ttotal: 9.63s\tremaining: 3m 9s\n",
      "242:\tlearn: 0.4871759\ttest: 0.4945979\tbest: 0.4945978 (240)\ttotal: 9.68s\tremaining: 3m 9s\n",
      "243:\tlearn: 0.4871696\ttest: 0.4945996\tbest: 0.4945978 (240)\ttotal: 9.71s\tremaining: 3m 9s\n",
      "244:\tlearn: 0.4871596\ttest: 0.4946049\tbest: 0.4945978 (240)\ttotal: 9.76s\tremaining: 3m 9s\n",
      "245:\tlearn: 0.4871542\ttest: 0.4946038\tbest: 0.4945978 (240)\ttotal: 9.79s\tremaining: 3m 9s\n",
      "246:\tlearn: 0.4871421\ttest: 0.4945997\tbest: 0.4945978 (240)\ttotal: 9.84s\tremaining: 3m 9s\n",
      "247:\tlearn: 0.4871414\ttest: 0.4945997\tbest: 0.4945978 (240)\ttotal: 9.87s\tremaining: 3m 9s\n",
      "248:\tlearn: 0.4871334\ttest: 0.4945978\tbest: 0.4945978 (240)\ttotal: 9.91s\tremaining: 3m 9s\n",
      "249:\tlearn: 0.4871276\ttest: 0.4945931\tbest: 0.4945931 (249)\ttotal: 9.95s\tremaining: 3m 9s\n",
      "250:\tlearn: 0.4871238\ttest: 0.4945931\tbest: 0.4945931 (250)\ttotal: 9.99s\tremaining: 3m 8s\n",
      "251:\tlearn: 0.4870962\ttest: 0.4945820\tbest: 0.4945820 (251)\ttotal: 10s\tremaining: 3m 8s\n",
      "252:\tlearn: 0.4870936\ttest: 0.4945817\tbest: 0.4945817 (252)\ttotal: 10.1s\tremaining: 3m 8s\n",
      "253:\tlearn: 0.4870879\ttest: 0.4945828\tbest: 0.4945817 (252)\ttotal: 10.1s\tremaining: 3m 8s\n",
      "254:\tlearn: 0.4870859\ttest: 0.4945828\tbest: 0.4945817 (252)\ttotal: 10.1s\tremaining: 3m 8s\n",
      "255:\tlearn: 0.4870819\ttest: 0.4945807\tbest: 0.4945807 (255)\ttotal: 10.2s\tremaining: 3m 8s\n",
      "256:\tlearn: 0.4870743\ttest: 0.4945819\tbest: 0.4945807 (255)\ttotal: 10.2s\tremaining: 3m 8s\n",
      "257:\tlearn: 0.4870723\ttest: 0.4945818\tbest: 0.4945807 (255)\ttotal: 10.2s\tremaining: 3m 8s\n",
      "258:\tlearn: 0.4870631\ttest: 0.4945786\tbest: 0.4945786 (258)\ttotal: 10.3s\tremaining: 3m 8s\n",
      "259:\tlearn: 0.4870463\ttest: 0.4945830\tbest: 0.4945786 (258)\ttotal: 10.3s\tremaining: 3m 8s\n",
      "260:\tlearn: 0.4870102\ttest: 0.4945636\tbest: 0.4945636 (260)\ttotal: 10.4s\tremaining: 3m 8s\n",
      "261:\tlearn: 0.4870022\ttest: 0.4945638\tbest: 0.4945636 (260)\ttotal: 10.4s\tremaining: 3m 8s\n",
      "262:\tlearn: 0.4869959\ttest: 0.4945638\tbest: 0.4945636 (260)\ttotal: 10.5s\tremaining: 3m 8s\n",
      "263:\tlearn: 0.4869853\ttest: 0.4945689\tbest: 0.4945636 (260)\ttotal: 10.5s\tremaining: 3m 8s\n",
      "264:\tlearn: 0.4869779\ttest: 0.4945684\tbest: 0.4945636 (260)\ttotal: 10.5s\tremaining: 3m 8s\n",
      "265:\tlearn: 0.4869747\ttest: 0.4945700\tbest: 0.4945636 (260)\ttotal: 10.6s\tremaining: 3m 8s\n",
      "266:\tlearn: 0.4869672\ttest: 0.4945740\tbest: 0.4945636 (260)\ttotal: 10.6s\tremaining: 3m 8s\n",
      "267:\tlearn: 0.4869623\ttest: 0.4945736\tbest: 0.4945636 (260)\ttotal: 10.7s\tremaining: 3m 8s\n",
      "268:\tlearn: 0.4869595\ttest: 0.4945738\tbest: 0.4945636 (260)\ttotal: 10.7s\tremaining: 3m 8s\n",
      "269:\tlearn: 0.4869534\ttest: 0.4945768\tbest: 0.4945636 (260)\ttotal: 10.7s\tremaining: 3m 7s\n",
      "270:\tlearn: 0.4869491\ttest: 0.4945763\tbest: 0.4945636 (260)\ttotal: 10.8s\tremaining: 3m 7s\n",
      "271:\tlearn: 0.4869442\ttest: 0.4945718\tbest: 0.4945636 (260)\ttotal: 10.8s\tremaining: 3m 7s\n",
      "272:\tlearn: 0.4869383\ttest: 0.4945716\tbest: 0.4945636 (260)\ttotal: 10.8s\tremaining: 3m 7s\n",
      "273:\tlearn: 0.4869139\ttest: 0.4945638\tbest: 0.4945636 (260)\ttotal: 10.9s\tremaining: 3m 7s\n",
      "274:\tlearn: 0.4869086\ttest: 0.4945661\tbest: 0.4945636 (260)\ttotal: 10.9s\tremaining: 3m 7s\n",
      "275:\tlearn: 0.4868926\ttest: 0.4945530\tbest: 0.4945530 (275)\ttotal: 11s\tremaining: 3m 7s\n",
      "276:\tlearn: 0.4868898\ttest: 0.4945521\tbest: 0.4945521 (276)\ttotal: 11s\tremaining: 3m 7s\n",
      "277:\tlearn: 0.4868819\ttest: 0.4945519\tbest: 0.4945519 (277)\ttotal: 11.1s\tremaining: 3m 7s\n",
      "278:\tlearn: 0.4868783\ttest: 0.4945508\tbest: 0.4945508 (278)\ttotal: 11.1s\tremaining: 3m 7s\n",
      "279:\tlearn: 0.4868606\ttest: 0.4945492\tbest: 0.4945492 (279)\ttotal: 11.1s\tremaining: 3m 7s\n",
      "280:\tlearn: 0.4868566\ttest: 0.4945464\tbest: 0.4945464 (280)\ttotal: 11.2s\tremaining: 3m 7s\n",
      "281:\tlearn: 0.4868512\ttest: 0.4945456\tbest: 0.4945456 (281)\ttotal: 11.2s\tremaining: 3m 7s\n",
      "282:\tlearn: 0.4868447\ttest: 0.4945464\tbest: 0.4945456 (281)\ttotal: 11.3s\tremaining: 3m 7s\n",
      "283:\tlearn: 0.4868412\ttest: 0.4945463\tbest: 0.4945456 (281)\ttotal: 11.3s\tremaining: 3m 7s\n",
      "284:\tlearn: 0.4868363\ttest: 0.4945466\tbest: 0.4945456 (281)\ttotal: 11.3s\tremaining: 3m 7s\n",
      "285:\tlearn: 0.4868288\ttest: 0.4945473\tbest: 0.4945456 (281)\ttotal: 11.4s\tremaining: 3m 7s\n",
      "286:\tlearn: 0.4868003\ttest: 0.4945341\tbest: 0.4945341 (286)\ttotal: 11.4s\tremaining: 3m 7s\n",
      "287:\tlearn: 0.4867849\ttest: 0.4945432\tbest: 0.4945341 (286)\ttotal: 11.4s\tremaining: 3m 7s\n",
      "288:\tlearn: 0.4867823\ttest: 0.4945427\tbest: 0.4945341 (286)\ttotal: 11.5s\tremaining: 3m 7s\n",
      "289:\tlearn: 0.4867720\ttest: 0.4945407\tbest: 0.4945341 (286)\ttotal: 11.5s\tremaining: 3m 7s\n",
      "290:\tlearn: 0.4867645\ttest: 0.4945382\tbest: 0.4945341 (286)\ttotal: 11.6s\tremaining: 3m 7s\n",
      "291:\tlearn: 0.4867616\ttest: 0.4945398\tbest: 0.4945341 (286)\ttotal: 11.6s\tremaining: 3m 6s\n",
      "292:\tlearn: 0.4867553\ttest: 0.4945411\tbest: 0.4945341 (286)\ttotal: 11.6s\tremaining: 3m 6s\n",
      "293:\tlearn: 0.4867499\ttest: 0.4945417\tbest: 0.4945341 (286)\ttotal: 11.7s\tremaining: 3m 6s\n",
      "294:\tlearn: 0.4867381\ttest: 0.4945382\tbest: 0.4945341 (286)\ttotal: 11.7s\tremaining: 3m 6s\n",
      "295:\tlearn: 0.4867329\ttest: 0.4945386\tbest: 0.4945341 (286)\ttotal: 11.7s\tremaining: 3m 6s\n",
      "296:\tlearn: 0.4867306\ttest: 0.4945416\tbest: 0.4945341 (286)\ttotal: 11.8s\tremaining: 3m 6s\n",
      "297:\tlearn: 0.4867271\ttest: 0.4945405\tbest: 0.4945341 (286)\ttotal: 11.8s\tremaining: 3m 6s\n",
      "298:\tlearn: 0.4867224\ttest: 0.4945421\tbest: 0.4945341 (286)\ttotal: 11.9s\tremaining: 3m 6s\n",
      "299:\tlearn: 0.4867161\ttest: 0.4945408\tbest: 0.4945341 (286)\ttotal: 11.9s\tremaining: 3m 6s\n",
      "300:\tlearn: 0.4866930\ttest: 0.4945373\tbest: 0.4945341 (286)\ttotal: 11.9s\tremaining: 3m 6s\n",
      "301:\tlearn: 0.4866899\ttest: 0.4945383\tbest: 0.4945341 (286)\ttotal: 12s\tremaining: 3m 6s\n",
      "302:\tlearn: 0.4866874\ttest: 0.4945382\tbest: 0.4945341 (286)\ttotal: 12s\tremaining: 3m 6s\n",
      "303:\tlearn: 0.4866816\ttest: 0.4945358\tbest: 0.4945341 (286)\ttotal: 12.1s\tremaining: 3m 6s\n",
      "304:\tlearn: 0.4866735\ttest: 0.4945343\tbest: 0.4945341 (286)\ttotal: 12.1s\tremaining: 3m 6s\n",
      "305:\tlearn: 0.4866694\ttest: 0.4945315\tbest: 0.4945315 (305)\ttotal: 12.2s\tremaining: 3m 6s\n",
      "306:\tlearn: 0.4866653\ttest: 0.4945326\tbest: 0.4945315 (305)\ttotal: 12.2s\tremaining: 3m 6s\n",
      "307:\tlearn: 0.4866632\ttest: 0.4945341\tbest: 0.4945315 (305)\ttotal: 12.3s\tremaining: 3m 6s\n",
      "308:\tlearn: 0.4866538\ttest: 0.4945392\tbest: 0.4945315 (305)\ttotal: 12.3s\tremaining: 3m 6s\n",
      "309:\tlearn: 0.4866515\ttest: 0.4945394\tbest: 0.4945315 (305)\ttotal: 12.3s\tremaining: 3m 6s\n",
      "310:\tlearn: 0.4866461\ttest: 0.4945393\tbest: 0.4945315 (305)\ttotal: 12.4s\tremaining: 3m 6s\n",
      "311:\tlearn: 0.4866362\ttest: 0.4945375\tbest: 0.4945315 (305)\ttotal: 12.4s\tremaining: 3m 6s\n",
      "312:\tlearn: 0.4866196\ttest: 0.4945403\tbest: 0.4945315 (305)\ttotal: 12.5s\tremaining: 3m 6s\n",
      "313:\tlearn: 0.4866081\ttest: 0.4945355\tbest: 0.4945315 (305)\ttotal: 12.5s\tremaining: 3m 6s\n",
      "314:\tlearn: 0.4866052\ttest: 0.4945352\tbest: 0.4945315 (305)\ttotal: 12.6s\tremaining: 3m 6s\n",
      "315:\tlearn: 0.4865923\ttest: 0.4945395\tbest: 0.4945315 (305)\ttotal: 12.6s\tremaining: 3m 6s\n",
      "316:\tlearn: 0.4865888\ttest: 0.4945396\tbest: 0.4945315 (305)\ttotal: 12.6s\tremaining: 3m 6s\n",
      "317:\tlearn: 0.4865852\ttest: 0.4945393\tbest: 0.4945315 (305)\ttotal: 12.7s\tremaining: 3m 6s\n",
      "318:\tlearn: 0.4865779\ttest: 0.4945391\tbest: 0.4945315 (305)\ttotal: 12.7s\tremaining: 3m 6s\n",
      "319:\tlearn: 0.4865724\ttest: 0.4945379\tbest: 0.4945315 (305)\ttotal: 12.8s\tremaining: 3m 6s\n",
      "320:\tlearn: 0.4865655\ttest: 0.4945416\tbest: 0.4945315 (305)\ttotal: 12.8s\tremaining: 3m 6s\n",
      "321:\tlearn: 0.4865498\ttest: 0.4945424\tbest: 0.4945315 (305)\ttotal: 12.8s\tremaining: 3m 6s\n",
      "322:\tlearn: 0.4865190\ttest: 0.4945271\tbest: 0.4945271 (322)\ttotal: 12.9s\tremaining: 3m 6s\n",
      "323:\tlearn: 0.4865158\ttest: 0.4945295\tbest: 0.4945271 (322)\ttotal: 12.9s\tremaining: 3m 6s\n",
      "324:\tlearn: 0.4865129\ttest: 0.4945325\tbest: 0.4945271 (322)\ttotal: 13s\tremaining: 3m 6s\n",
      "325:\tlearn: 0.4865062\ttest: 0.4945357\tbest: 0.4945271 (322)\ttotal: 13s\tremaining: 3m 6s\n",
      "326:\tlearn: 0.4864912\ttest: 0.4945354\tbest: 0.4945271 (322)\ttotal: 13s\tremaining: 3m 6s\n",
      "327:\tlearn: 0.4864822\ttest: 0.4945342\tbest: 0.4945271 (322)\ttotal: 13.1s\tremaining: 3m 6s\n",
      "328:\tlearn: 0.4864789\ttest: 0.4945320\tbest: 0.4945271 (322)\ttotal: 13.1s\tremaining: 3m 6s\n",
      "329:\tlearn: 0.4864756\ttest: 0.4945324\tbest: 0.4945271 (322)\ttotal: 13.1s\tremaining: 3m 6s\n",
      "330:\tlearn: 0.4864727\ttest: 0.4945325\tbest: 0.4945271 (322)\ttotal: 13.2s\tremaining: 3m 6s\n",
      "331:\tlearn: 0.4864690\ttest: 0.4945315\tbest: 0.4945271 (322)\ttotal: 13.2s\tremaining: 3m 6s\n",
      "332:\tlearn: 0.4864624\ttest: 0.4945291\tbest: 0.4945271 (322)\ttotal: 13.3s\tremaining: 3m 6s\n",
      "333:\tlearn: 0.4864590\ttest: 0.4945290\tbest: 0.4945271 (322)\ttotal: 13.3s\tremaining: 3m 6s\n",
      "334:\tlearn: 0.4864519\ttest: 0.4945286\tbest: 0.4945271 (322)\ttotal: 13.4s\tremaining: 3m 5s\n",
      "335:\tlearn: 0.4864459\ttest: 0.4945271\tbest: 0.4945271 (322)\ttotal: 13.4s\tremaining: 3m 5s\n",
      "336:\tlearn: 0.4864368\ttest: 0.4945252\tbest: 0.4945252 (336)\ttotal: 13.4s\tremaining: 3m 5s\n",
      "337:\tlearn: 0.4864356\ttest: 0.4945252\tbest: 0.4945252 (336)\ttotal: 13.5s\tremaining: 3m 5s\n",
      "338:\tlearn: 0.4864320\ttest: 0.4945251\tbest: 0.4945251 (338)\ttotal: 13.5s\tremaining: 3m 5s\n",
      "339:\tlearn: 0.4864298\ttest: 0.4945237\tbest: 0.4945237 (339)\ttotal: 13.5s\tremaining: 3m 5s\n",
      "340:\tlearn: 0.4864226\ttest: 0.4945287\tbest: 0.4945237 (339)\ttotal: 13.6s\tremaining: 3m 5s\n",
      "341:\tlearn: 0.4864182\ttest: 0.4945272\tbest: 0.4945237 (339)\ttotal: 13.6s\tremaining: 3m 5s\n",
      "342:\tlearn: 0.4864084\ttest: 0.4945326\tbest: 0.4945237 (339)\ttotal: 13.7s\tremaining: 3m 5s\n",
      "343:\tlearn: 0.4863938\ttest: 0.4945364\tbest: 0.4945237 (339)\ttotal: 13.7s\tremaining: 3m 5s\n",
      "344:\tlearn: 0.4863909\ttest: 0.4945360\tbest: 0.4945237 (339)\ttotal: 13.7s\tremaining: 3m 5s\n",
      "345:\tlearn: 0.4863852\ttest: 0.4945367\tbest: 0.4945237 (339)\ttotal: 13.8s\tremaining: 3m 5s\n",
      "346:\tlearn: 0.4863785\ttest: 0.4945354\tbest: 0.4945237 (339)\ttotal: 13.8s\tremaining: 3m 5s\n",
      "347:\tlearn: 0.4863676\ttest: 0.4945292\tbest: 0.4945237 (339)\ttotal: 13.8s\tremaining: 3m 5s\n",
      "348:\tlearn: 0.4863629\ttest: 0.4945285\tbest: 0.4945237 (339)\ttotal: 13.9s\tremaining: 3m 5s\n",
      "349:\tlearn: 0.4863575\ttest: 0.4945293\tbest: 0.4945237 (339)\ttotal: 13.9s\tremaining: 3m 5s\n",
      "350:\tlearn: 0.4863541\ttest: 0.4945295\tbest: 0.4945237 (339)\ttotal: 14s\tremaining: 3m 4s\n",
      "351:\tlearn: 0.4863523\ttest: 0.4945299\tbest: 0.4945237 (339)\ttotal: 14s\tremaining: 3m 4s\n",
      "352:\tlearn: 0.4863475\ttest: 0.4945280\tbest: 0.4945237 (339)\ttotal: 14s\tremaining: 3m 4s\n",
      "353:\tlearn: 0.4863445\ttest: 0.4945243\tbest: 0.4945237 (339)\ttotal: 14.1s\tremaining: 3m 4s\n",
      "354:\tlearn: 0.4863406\ttest: 0.4945222\tbest: 0.4945222 (354)\ttotal: 14.1s\tremaining: 3m 4s\n",
      "355:\tlearn: 0.4863385\ttest: 0.4945231\tbest: 0.4945222 (354)\ttotal: 14.2s\tremaining: 3m 4s\n",
      "356:\tlearn: 0.4863276\ttest: 0.4945231\tbest: 0.4945222 (354)\ttotal: 14.2s\tremaining: 3m 4s\n",
      "357:\tlearn: 0.4863216\ttest: 0.4945245\tbest: 0.4945222 (354)\ttotal: 14.2s\tremaining: 3m 4s\n",
      "358:\tlearn: 0.4863143\ttest: 0.4945265\tbest: 0.4945222 (354)\ttotal: 14.3s\tremaining: 3m 4s\n",
      "359:\tlearn: 0.4863096\ttest: 0.4945291\tbest: 0.4945222 (354)\ttotal: 14.3s\tremaining: 3m 4s\n",
      "360:\tlearn: 0.4863066\ttest: 0.4945293\tbest: 0.4945222 (354)\ttotal: 14.4s\tremaining: 3m 4s\n",
      "361:\tlearn: 0.4862972\ttest: 0.4945317\tbest: 0.4945222 (354)\ttotal: 14.4s\tremaining: 3m 4s\n",
      "362:\tlearn: 0.4862881\ttest: 0.4945308\tbest: 0.4945222 (354)\ttotal: 14.5s\tremaining: 3m 4s\n",
      "363:\tlearn: 0.4862862\ttest: 0.4945314\tbest: 0.4945222 (354)\ttotal: 14.5s\tremaining: 3m 4s\n",
      "364:\tlearn: 0.4862809\ttest: 0.4945314\tbest: 0.4945222 (354)\ttotal: 14.5s\tremaining: 3m 4s\n",
      "365:\tlearn: 0.4862790\ttest: 0.4945379\tbest: 0.4945222 (354)\ttotal: 14.6s\tremaining: 3m 4s\n",
      "366:\tlearn: 0.4862781\ttest: 0.4945380\tbest: 0.4945222 (354)\ttotal: 14.6s\tremaining: 3m 4s\n",
      "367:\tlearn: 0.4862685\ttest: 0.4945358\tbest: 0.4945222 (354)\ttotal: 14.7s\tremaining: 3m 4s\n",
      "368:\tlearn: 0.4862661\ttest: 0.4945318\tbest: 0.4945222 (354)\ttotal: 14.7s\tremaining: 3m 4s\n",
      "369:\tlearn: 0.4862567\ttest: 0.4945288\tbest: 0.4945222 (354)\ttotal: 14.8s\tremaining: 3m 4s\n",
      "370:\tlearn: 0.4862504\ttest: 0.4945278\tbest: 0.4945222 (354)\ttotal: 14.8s\tremaining: 3m 4s\n",
      "371:\tlearn: 0.4862457\ttest: 0.4945269\tbest: 0.4945222 (354)\ttotal: 14.8s\tremaining: 3m 4s\n",
      "372:\tlearn: 0.4862430\ttest: 0.4945289\tbest: 0.4945222 (354)\ttotal: 14.9s\tremaining: 3m 4s\n",
      "373:\tlearn: 0.4862356\ttest: 0.4945291\tbest: 0.4945222 (354)\ttotal: 14.9s\tremaining: 3m 4s\n",
      "374:\tlearn: 0.4862281\ttest: 0.4945327\tbest: 0.4945222 (354)\ttotal: 15s\tremaining: 3m 4s\n",
      "375:\tlearn: 0.4862152\ttest: 0.4945288\tbest: 0.4945222 (354)\ttotal: 15s\tremaining: 3m 4s\n",
      "376:\tlearn: 0.4862122\ttest: 0.4945286\tbest: 0.4945222 (354)\ttotal: 15s\tremaining: 3m 4s\n",
      "377:\tlearn: 0.4862077\ttest: 0.4945285\tbest: 0.4945222 (354)\ttotal: 15.1s\tremaining: 3m 4s\n",
      "378:\tlearn: 0.4862064\ttest: 0.4945285\tbest: 0.4945222 (354)\ttotal: 15.1s\tremaining: 3m 4s\n",
      "379:\tlearn: 0.4861994\ttest: 0.4945277\tbest: 0.4945222 (354)\ttotal: 15.2s\tremaining: 3m 4s\n",
      "380:\tlearn: 0.4861968\ttest: 0.4945274\tbest: 0.4945222 (354)\ttotal: 15.2s\tremaining: 3m 4s\n",
      "381:\tlearn: 0.4861945\ttest: 0.4945294\tbest: 0.4945222 (354)\ttotal: 15.2s\tremaining: 3m 4s\n",
      "382:\tlearn: 0.4861923\ttest: 0.4945295\tbest: 0.4945222 (354)\ttotal: 15.3s\tremaining: 3m 4s\n",
      "383:\tlearn: 0.4861849\ttest: 0.4945405\tbest: 0.4945222 (354)\ttotal: 15.3s\tremaining: 3m 4s\n",
      "384:\tlearn: 0.4861784\ttest: 0.4945408\tbest: 0.4945222 (354)\ttotal: 15.4s\tremaining: 3m 4s\n",
      "385:\tlearn: 0.4861755\ttest: 0.4945392\tbest: 0.4945222 (354)\ttotal: 15.4s\tremaining: 3m 4s\n",
      "386:\tlearn: 0.4861711\ttest: 0.4945402\tbest: 0.4945222 (354)\ttotal: 15.4s\tremaining: 3m 4s\n",
      "387:\tlearn: 0.4861686\ttest: 0.4945440\tbest: 0.4945222 (354)\ttotal: 15.5s\tremaining: 3m 3s\n",
      "388:\tlearn: 0.4861638\ttest: 0.4945460\tbest: 0.4945222 (354)\ttotal: 15.5s\tremaining: 3m 3s\n",
      "389:\tlearn: 0.4861612\ttest: 0.4945467\tbest: 0.4945222 (354)\ttotal: 15.5s\tremaining: 3m 3s\n",
      "390:\tlearn: 0.4861560\ttest: 0.4945474\tbest: 0.4945222 (354)\ttotal: 15.6s\tremaining: 3m 3s\n",
      "391:\tlearn: 0.4861473\ttest: 0.4945456\tbest: 0.4945222 (354)\ttotal: 15.6s\tremaining: 3m 3s\n",
      "392:\tlearn: 0.4861438\ttest: 0.4945462\tbest: 0.4945222 (354)\ttotal: 15.7s\tremaining: 3m 3s\n",
      "393:\tlearn: 0.4861295\ttest: 0.4945498\tbest: 0.4945222 (354)\ttotal: 15.7s\tremaining: 3m 3s\n",
      "394:\tlearn: 0.4861271\ttest: 0.4945510\tbest: 0.4945222 (354)\ttotal: 15.7s\tremaining: 3m 3s\n",
      "395:\tlearn: 0.4861216\ttest: 0.4945527\tbest: 0.4945222 (354)\ttotal: 15.8s\tremaining: 3m 3s\n",
      "396:\tlearn: 0.4861158\ttest: 0.4945525\tbest: 0.4945222 (354)\ttotal: 15.8s\tremaining: 3m 3s\n",
      "397:\tlearn: 0.4861140\ttest: 0.4945518\tbest: 0.4945222 (354)\ttotal: 15.8s\tremaining: 3m 3s\n",
      "398:\tlearn: 0.4861033\ttest: 0.4945513\tbest: 0.4945222 (354)\ttotal: 15.9s\tremaining: 3m 3s\n",
      "399:\tlearn: 0.4861012\ttest: 0.4945529\tbest: 0.4945222 (354)\ttotal: 15.9s\tremaining: 3m 3s\n",
      "400:\tlearn: 0.4860911\ttest: 0.4945579\tbest: 0.4945222 (354)\ttotal: 16s\tremaining: 3m 3s\n",
      "401:\tlearn: 0.4860690\ttest: 0.4945463\tbest: 0.4945222 (354)\ttotal: 16s\tremaining: 3m 3s\n",
      "402:\tlearn: 0.4860552\ttest: 0.4945600\tbest: 0.4945222 (354)\ttotal: 16s\tremaining: 3m 3s\n",
      "403:\tlearn: 0.4860518\ttest: 0.4945612\tbest: 0.4945222 (354)\ttotal: 16.1s\tremaining: 3m 2s\n",
      "404:\tlearn: 0.4860463\ttest: 0.4945618\tbest: 0.4945222 (354)\ttotal: 16.1s\tremaining: 3m 2s\n",
      "405:\tlearn: 0.4860393\ttest: 0.4945597\tbest: 0.4945222 (354)\ttotal: 16.2s\tremaining: 3m 2s\n",
      "406:\tlearn: 0.4860375\ttest: 0.4945598\tbest: 0.4945222 (354)\ttotal: 16.2s\tremaining: 3m 2s\n",
      "407:\tlearn: 0.4860330\ttest: 0.4945624\tbest: 0.4945222 (354)\ttotal: 16.3s\tremaining: 3m 2s\n",
      "408:\tlearn: 0.4860235\ttest: 0.4945666\tbest: 0.4945222 (354)\ttotal: 16.3s\tremaining: 3m 2s\n",
      "409:\tlearn: 0.4860167\ttest: 0.4945689\tbest: 0.4945222 (354)\ttotal: 16.3s\tremaining: 3m 2s\n",
      "410:\tlearn: 0.4860047\ttest: 0.4945684\tbest: 0.4945222 (354)\ttotal: 16.4s\tremaining: 3m 2s\n",
      "411:\tlearn: 0.4860029\ttest: 0.4945684\tbest: 0.4945222 (354)\ttotal: 16.4s\tremaining: 3m 2s\n",
      "412:\tlearn: 0.4859984\ttest: 0.4945684\tbest: 0.4945222 (354)\ttotal: 16.4s\tremaining: 3m 2s\n",
      "413:\tlearn: 0.4859951\ttest: 0.4945695\tbest: 0.4945222 (354)\ttotal: 16.5s\tremaining: 3m 2s\n",
      "414:\tlearn: 0.4859911\ttest: 0.4945742\tbest: 0.4945222 (354)\ttotal: 16.5s\tremaining: 3m 2s\n",
      "415:\tlearn: 0.4859822\ttest: 0.4945749\tbest: 0.4945222 (354)\ttotal: 16.6s\tremaining: 3m 2s\n",
      "416:\tlearn: 0.4859725\ttest: 0.4945760\tbest: 0.4945222 (354)\ttotal: 16.6s\tremaining: 3m 2s\n",
      "417:\tlearn: 0.4859702\ttest: 0.4945761\tbest: 0.4945222 (354)\ttotal: 16.7s\tremaining: 3m 2s\n",
      "418:\tlearn: 0.4859638\ttest: 0.4945761\tbest: 0.4945222 (354)\ttotal: 16.7s\tremaining: 3m 2s\n",
      "419:\tlearn: 0.4859564\ttest: 0.4945767\tbest: 0.4945222 (354)\ttotal: 16.7s\tremaining: 3m 2s\n",
      "420:\tlearn: 0.4859510\ttest: 0.4945728\tbest: 0.4945222 (354)\ttotal: 16.8s\tremaining: 3m 2s\n",
      "421:\tlearn: 0.4859474\ttest: 0.4945730\tbest: 0.4945222 (354)\ttotal: 16.8s\tremaining: 3m 2s\n",
      "422:\tlearn: 0.4859472\ttest: 0.4945731\tbest: 0.4945222 (354)\ttotal: 16.9s\tremaining: 3m 2s\n",
      "423:\tlearn: 0.4859454\ttest: 0.4945731\tbest: 0.4945222 (354)\ttotal: 16.9s\tremaining: 3m 2s\n",
      "424:\tlearn: 0.4859382\ttest: 0.4945745\tbest: 0.4945222 (354)\ttotal: 16.9s\tremaining: 3m 2s\n",
      "425:\tlearn: 0.4859313\ttest: 0.4945790\tbest: 0.4945222 (354)\ttotal: 17s\tremaining: 3m 2s\n",
      "426:\tlearn: 0.4859268\ttest: 0.4945768\tbest: 0.4945222 (354)\ttotal: 17s\tremaining: 3m 2s\n",
      "427:\tlearn: 0.4859223\ttest: 0.4945791\tbest: 0.4945222 (354)\ttotal: 17.1s\tremaining: 3m 2s\n",
      "428:\tlearn: 0.4859199\ttest: 0.4945792\tbest: 0.4945222 (354)\ttotal: 17.1s\tremaining: 3m 2s\n",
      "429:\tlearn: 0.4859149\ttest: 0.4945801\tbest: 0.4945222 (354)\ttotal: 17.2s\tremaining: 3m 2s\n",
      "430:\tlearn: 0.4859144\ttest: 0.4945801\tbest: 0.4945222 (354)\ttotal: 17.2s\tremaining: 3m 2s\n",
      "431:\tlearn: 0.4859124\ttest: 0.4945783\tbest: 0.4945222 (354)\ttotal: 17.2s\tremaining: 3m 2s\n",
      "432:\tlearn: 0.4859048\ttest: 0.4945795\tbest: 0.4945222 (354)\ttotal: 17.3s\tremaining: 3m 2s\n",
      "433:\tlearn: 0.4859033\ttest: 0.4945792\tbest: 0.4945222 (354)\ttotal: 17.3s\tremaining: 3m 1s\n",
      "434:\tlearn: 0.4859003\ttest: 0.4945798\tbest: 0.4945222 (354)\ttotal: 17.3s\tremaining: 3m 1s\n",
      "435:\tlearn: 0.4858966\ttest: 0.4945800\tbest: 0.4945222 (354)\ttotal: 17.4s\tremaining: 3m 1s\n",
      "436:\tlearn: 0.4858872\ttest: 0.4945750\tbest: 0.4945222 (354)\ttotal: 17.4s\tremaining: 3m 1s\n",
      "437:\tlearn: 0.4858830\ttest: 0.4945801\tbest: 0.4945222 (354)\ttotal: 17.5s\tremaining: 3m 1s\n",
      "438:\tlearn: 0.4858806\ttest: 0.4945819\tbest: 0.4945222 (354)\ttotal: 17.5s\tremaining: 3m 1s\n",
      "439:\tlearn: 0.4858647\ttest: 0.4945798\tbest: 0.4945222 (354)\ttotal: 17.5s\tremaining: 3m 1s\n",
      "440:\tlearn: 0.4858530\ttest: 0.4945712\tbest: 0.4945222 (354)\ttotal: 17.6s\tremaining: 3m 1s\n",
      "441:\tlearn: 0.4858481\ttest: 0.4945722\tbest: 0.4945222 (354)\ttotal: 17.6s\tremaining: 3m 1s\n",
      "442:\tlearn: 0.4858410\ttest: 0.4945779\tbest: 0.4945222 (354)\ttotal: 17.7s\tremaining: 3m 1s\n",
      "443:\tlearn: 0.4858400\ttest: 0.4945781\tbest: 0.4945222 (354)\ttotal: 17.7s\tremaining: 3m 1s\n",
      "444:\tlearn: 0.4858391\ttest: 0.4945780\tbest: 0.4945222 (354)\ttotal: 17.7s\tremaining: 3m 1s\n",
      "445:\tlearn: 0.4858355\ttest: 0.4945780\tbest: 0.4945222 (354)\ttotal: 17.8s\tremaining: 3m 1s\n",
      "446:\tlearn: 0.4858308\ttest: 0.4945786\tbest: 0.4945222 (354)\ttotal: 17.8s\tremaining: 3m 1s\n",
      "447:\tlearn: 0.4858274\ttest: 0.4945797\tbest: 0.4945222 (354)\ttotal: 17.9s\tremaining: 3m 1s\n",
      "448:\tlearn: 0.4858250\ttest: 0.4945817\tbest: 0.4945222 (354)\ttotal: 17.9s\tremaining: 3m 1s\n",
      "449:\tlearn: 0.4858234\ttest: 0.4945794\tbest: 0.4945222 (354)\ttotal: 17.9s\tremaining: 3m 1s\n",
      "450:\tlearn: 0.4858185\ttest: 0.4945772\tbest: 0.4945222 (354)\ttotal: 18s\tremaining: 3m 1s\n",
      "451:\tlearn: 0.4858176\ttest: 0.4945768\tbest: 0.4945222 (354)\ttotal: 18s\tremaining: 3m 1s\n",
      "452:\tlearn: 0.4858144\ttest: 0.4945777\tbest: 0.4945222 (354)\ttotal: 18.1s\tremaining: 3m 1s\n",
      "453:\tlearn: 0.4858075\ttest: 0.4945760\tbest: 0.4945222 (354)\ttotal: 18.1s\tremaining: 3m 1s\n",
      "454:\tlearn: 0.4857998\ttest: 0.4945746\tbest: 0.4945222 (354)\ttotal: 18.2s\tremaining: 3m 1s\n",
      "Stopped by overfitting detector  (100 iterations wait)\n",
      "\n",
      "bestTest = 0.4945221519\n",
      "bestIteration = 354\n",
      "\n",
      "Shrink model to first 355 iterations.\n"
     ]
    },
    {
     "data": {
      "text/plain": [
       "<catboost.core.CatBoostClassifier at 0x7f78b2e173a0>"
      ]
     },
     "execution_count": 87,
     "metadata": {},
     "output_type": "execute_result"
    }
   ],
   "source": [
    "cbm_classifier.fit(\n",
    "    X_train, y_train,\n",
    "    eval_set=(X_test, y_test),\n",
    "    early_stopping_rounds = 100, # to avoid overfitting,\n",
    "    cat_features = CATEGORICAL_COLS \n",
    ")"
   ]
  },
  {
   "attachments": {},
   "cell_type": "markdown",
   "metadata": {},
   "source": [
    "## 2.5.3. Model Evaluation"
   ]
  },
  {
   "attachments": {},
   "cell_type": "markdown",
   "metadata": {},
   "source": [
    "Let's make basic shapley plot to investigate feature importance"
   ]
  },
  {
   "cell_type": "code",
   "execution_count": 88,
   "metadata": {},
   "outputs": [],
   "source": [
    "explainer = shap.TreeExplainer(cbm_classifier)\n",
    "shap_values = explainer.shap_values(X_train)"
   ]
  },
  {
   "cell_type": "code",
   "execution_count": 89,
   "metadata": {},
   "outputs": [
    {
     "data": {
      "image/png": "[encoded data removed]",
      "text/plain": [
       "<Figure size 800x510 with 1 Axes>"
      ]
     },
     "metadata": {},
     "output_type": "display_data"
    }
   ],
   "source": [
    "shap.summary_plot(shap_values, X_train, show = False, color_bar = False)"
   ]
  },
  {
   "cell_type": "code",
   "execution_count": 90,
   "metadata": {},
   "outputs": [],
   "source": [
    "# predictions on test\n",
    "y_test_pred = cbm_classifier.predict_proba(X_test)"
   ]
  },
  {
   "cell_type": "code",
   "execution_count": 91,
   "metadata": {},
   "outputs": [
    {
     "name": "stdout",
     "output_type": "stream",
     "text": [
      "ROC AUC score = 0.68\n"
     ]
    }
   ],
   "source": [
    "from sklearn.metrics import roc_auc_score\n",
    "\n",
    "print(f\"ROC AUC score = {roc_auc_score(y_test, y_test_pred[:, 1]):.2f}\")"
   ]
  },
  {
   "attachments": {},
   "cell_type": "markdown",
   "metadata": {},
   "source": [
    "# TODO\n",
    "- Estimate the performance of the model on the test set using Precision@K, MRR, MAP@K: LightFM seperately, LightFM + Ranker"
   ]
  },
  {
   "cell_type": "code",
   "execution_count": 92,
   "metadata": {},
   "outputs": [],
   "source": [
    "def precission_at_k(y_true: np.array, y_pred: np.array, k: int) -> float:\n",
    "    \"\"\"\n",
    "    y_true: true labels\n",
    "    y_pred: predicted lables\n",
    "    k: cutoff length\n",
    "    \"\"\"\n",
    "\n",
    "    if sum(y_true) == 0:\n",
    "        return -1\n",
    "\n",
    "    argsort = np.argsort(y_pred)[::-1]\n",
    "    y_true_sorted = y_true[argsort]\n",
    "    true_positives = y_true_sorted[:k].sum()\n",
    "\n",
    "    return true_positives / k"
   ]
  },
  {
   "cell_type": "code",
   "execution_count": 114,
   "metadata": {},
   "outputs": [],
   "source": [
    "def reciprocal_rank(y_true: np.array, y_pred: np.array) -> float:\n",
    "    \n",
    "    argsort = np.argsort(y_pred)[::-1]\n",
    "    y_true_sorted = y_true[argsort]\n",
    "    for i, val in enumerate(y_true_sorted, 1):     \n",
    "        if val == 1:\n",
    "            return 1 / i\n",
    "    return 0"
   ]
  },
  {
   "cell_type": "code",
   "execution_count": 116,
   "metadata": {},
   "outputs": [],
   "source": [
    "def average_precision(y_true: np.array, y_pred: np.array, k: int) -> float:\n",
    "\n",
    "    if sum(y_true) == 0:\n",
    "        return -1\n",
    "\n",
    "    if len(y_pred) > k:\n",
    "        y_pred = y_pred[:k]\n",
    "\n",
    "    argsort = np.argsort(y_pred)[::-1]\n",
    "    y_true_sorted = y_true[argsort]\n",
    "\n",
    "    num_hits = 0\n",
    "    score = 0\n",
    "\n",
    "    for i, p in enumerate(y_true_sorted, 1):\n",
    "        if p == 1:\n",
    "            num_hits += 1\n",
    "            score += num_hits / i\n",
    "    if num_hits == 0:\n",
    "        output = 0\n",
    "    \n",
    "    else:\n",
    "        output = score / min(len(y_true), k)\n",
    "\n",
    "    return output"
   ]
  },
  {
   "cell_type": "code",
   "execution_count": 359,
   "metadata": {},
   "outputs": [],
   "source": [
    "y_pred = test_preds.groupby('user_id')['rank'].apply(lambda x: np.array(x))\n",
    "y_true = pd.merge(test_preds, interactions, how = 'left', on = ['user_id', 'item_id'])\n",
    "y_true['last_watch_dt'] = y_true['last_watch_dt'].fillna(0)\n",
    "y_true['y_true'] = y_true['last_watch_dt'].apply(lambda x: 1 if x!=0 else 0)\n",
    "y_true = y_true.groupby('user_id')['y_true'].apply(lambda x: np.array(x))"
   ]
  },
  {
   "attachments": {},
   "cell_type": "markdown",
   "metadata": {},
   "source": [
    "Evaluating LightFm without ranking"
   ]
  },
  {
   "cell_type": "code",
   "execution_count": 421,
   "metadata": {},
   "outputs": [
    {
     "name": "stdout",
     "output_type": "stream",
     "text": [
      "-0.45094339622641505\n"
     ]
    }
   ],
   "source": [
    "x = []\n",
    "for v, i in zip(y_true, y_pred):\n",
    "    x.append(precission_at_k(v,i,5))\n",
    "mean = np.mean(x)\n",
    "print(mean)   "
   ]
  },
  {
   "cell_type": "code",
   "execution_count": 420,
   "metadata": {},
   "outputs": [
    {
     "name": "stdout",
     "output_type": "stream",
     "text": [
      "0.0602817677182914\n"
     ]
    }
   ],
   "source": [
    "x = []\n",
    "for true, pred in zip(y_true, y_pred):\n",
    "    x.append(average_precision(true, pred, 10))\n",
    "mean = np.mean(ap_10)\n",
    "print(mean)"
   ]
  },
  {
   "cell_type": "code",
   "execution_count": 419,
   "metadata": {},
   "outputs": [
    {
     "name": "stdout",
     "output_type": "stream",
     "text": [
      "0.3523671769710242\n"
     ]
    }
   ],
   "source": [
    "x = []\n",
    "for true, pred in zip(y_true, y_pred):\n",
    "    x.append(reciprocal_rank(true, pred))\n",
    "mean = np.mean(x)\n",
    "print(mean)"
   ]
  },
  {
   "attachments": {},
   "cell_type": "markdown",
   "metadata": {},
   "source": [
    "With Ranker"
   ]
  },
  {
   "cell_type": "code",
   "execution_count": 408,
   "metadata": {},
   "outputs": [],
   "source": [
    "cbm_test_set['pred'] = y_test_pred[:,1]"
   ]
  },
  {
   "cell_type": "code",
   "execution_count": 413,
   "metadata": {},
   "outputs": [],
   "source": [
    "y_pred = cbm_test_set.groupby('user_id')['pred']\n",
    "y_pred = y_pred.apply(lambda x: np.array(x))\n",
    "y_true = cbm_test_set.groupby('user_id')['target']\n",
    "y_true = y_true.apply(lambda x: np.array(x))"
   ]
  },
  {
   "cell_type": "code",
   "execution_count": 414,
   "metadata": {},
   "outputs": [
    {
     "data": {
      "text/plain": [
       "-0.5078088148584905"
      ]
     },
     "execution_count": 414,
     "metadata": {},
     "output_type": "execute_result"
    }
   ],
   "source": [
    "x = []\n",
    "for v, i  in zip(y_true, y_pred):\n",
    "    x.append(precission_at_k(v, i, 10))\n",
    "mean = np.mean(x)\n",
    "mean"
   ]
  },
  {
   "cell_type": "code",
   "execution_count": 415,
   "metadata": {},
   "outputs": [
    {
     "name": "stdout",
     "output_type": "stream",
     "text": [
      "-0.3810635244233798\n"
     ]
    }
   ],
   "source": [
    "x = []\n",
    "for v, i in zip(y_true, y_pred):\n",
    "    x.append(average_precision(v, i, 10))\n",
    "mean = np.mean(x)\n",
    "print(mean)"
   ]
  },
  {
   "cell_type": "code",
   "execution_count": 416,
   "metadata": {},
   "outputs": [
    {
     "name": "stdout",
     "output_type": "stream",
     "text": [
      "0.3523671769710242\n"
     ]
    }
   ],
   "source": [
    "x = []\n",
    "for v, i in zip(y_true, y_pred):\n",
    "    x.append(reciprocal_rank(v, i))\n",
    "mean = np.mean(x)\n",
    "print(mean)\n"
   ]
  },
  {
   "cell_type": "code",
   "execution_count": null,
   "metadata": {},
   "outputs": [],
   "source": []
  }
 ],
 "metadata": {
  "kernelspec": {
   "display_name": "Python 3",
   "language": "python",
   "name": "python3"
  },
  "language_info": {
   "codemirror_mode": {
    "name": "ipython",
    "version": 3
   },
   "file_extension": ".py",
   "mimetype": "text/x-python",
   "name": "python",
   "nbconvert_exporter": "python",
   "pygments_lexer": "ipython3",
   "version": "3.10.9"
  },
  "orig_nbformat": 4,
  "vscode": {
   "interpreter": {
    "hash": "cdb2e6c29906468966cffa0206cf5d0d363c9275b03d73429c65c1718346237b"
   }
  }
 },
 "nbformat": 4,
 "nbformat_minor": 2
}
